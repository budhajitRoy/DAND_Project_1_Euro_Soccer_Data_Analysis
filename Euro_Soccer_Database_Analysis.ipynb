{
 "cells": [
  {
   "cell_type": "markdown",
   "metadata": {},
   "source": [
    "<h1 id=\"Project:-Euro-Soccer-Database-Analysis\">Project: Euro Soccer Database Analysis<a class=\"anchor-link\" href=\"#Project:-Euro-Soccer-Database-Analysis\">¶</a></h1><h2 id=\"Table-of-Contents\">Table of Contents<a class=\"anchor-link\" href=\"#Table-of-Contents\">¶</a></h2><ul>\n",
    "<li><a href=\"#intro\">Introduction</a></li>\n",
    "<li><a href=\"#wrangling\">Data Wrangling</a></li>\n",
    "<li><a href=\"#eda\">Exploratory Data Analysis</a></li>\n",
    "<li><a href=\"#conclusions\">Conclusions</a></li>\n",
    "</ul>\n"
   ]
  },
  {
   "cell_type": "markdown",
   "metadata": {},
   "source": [
    "<p><a id=\"intro\"></a></p>\n",
    "<h2 id=\"Introduction\">Introduction<a class=\"anchor-link\" href=\"#Introduction\">¶</a></h2><p>As a Soccer fan, I have decided to take up the Euro Soccer Database for analysis. I have used DB Browser for SQLite to extract the datasets from the Database. Following are the questions that I have come up for analysis. I have divided the questions or research analysis set into two groups, one related to Players and one to Teams:</p><p></p><p>On Players:</p>\n",
    "<ol>\n",
    "<li>Which player has the most penalties? </li>\n",
    "<li>Attributes of better players than average?</li>\n",
    "<li>Age and Overall Rating relationship analysis.</li>\n",
    "</ol>\n",
    "<p></p><p>On Teams:</p>\n",
    "<ol>\n",
    "<li>Which team improved the most over the time period? </li>\n",
    "<li>Home and Away Games - winning and losing ratio analysis.</li>\n",
    "</ol>\n"
   ]
  },
  {
   "cell_type": "markdown",
   "metadata": {},
   "source": [
    "<h3 id=\"SQL-Queries-Used:\">SQL Queries Used:<a class=\"anchor-link\" href=\"#SQL-Queries-Used:\">¶</a></h3><p>Following SQL Queries are used to combine the tables mentioned in the section above.</p>\n",
    "<ol>\n",
    "<li><p>For players dataset: I needed the player's name and birthday from Player table and the attributes from Player_Attributes table.</p>\n",
    "<div class=\"highlight\"><pre><span></span><span class=\"k\">SELECT</span> <span class=\"n\">p</span><span class=\"p\">.</span><span class=\"n\">player_name</span><span class=\"p\">,</span> <span class=\"n\">p</span><span class=\"p\">.</span><span class=\"n\">birthday</span><span class=\"p\">,</span> <span class=\"n\">pa</span><span class=\"p\">.</span><span class=\"o\">*</span> <span class=\"k\">FROM</span> <span class=\"n\">Player</span> <span class=\"n\">p</span> <span class=\"k\">JOIN</span> <span class=\"n\">Player_Attributes</span> <span class=\"n\">pa</span> <span class=\"k\">ON</span> <span class=\"n\">p</span><span class=\"p\">.</span><span class=\"n\">player_api_id</span> <span class=\"o\">=</span> <span class=\"n\">pa</span><span class=\"p\">.</span><span class=\"n\">player_api_id</span><span class=\"p\">;</span>\n",
    "</pre></div>\n",
    "</li>\n",
    "<li><p>To form team_match_records dataset: I needed the date, match_api_id, home_team_api_id, away_team_api_id, home_team_goal and away_team_goal from the Match Table.</p>\n",
    "<div class=\"highlight\"><pre><span></span><span class=\"k\">SELECT</span> <span class=\"kt\">date</span><span class=\"p\">,</span> <span class=\"n\">match_api_id</span><span class=\"p\">,</span> <span class=\"n\">home_team_api_id</span><span class=\"p\">,</span> <span class=\"n\">away_team_api_id</span><span class=\"p\">,</span> <span class=\"n\">home_team_goal</span><span class=\"p\">,</span> <span class=\"n\">away_team_goal</span> <span class=\"k\">FROM</span> <span class=\"k\">Match</span><span class=\"p\">;</span>\n",
    "</pre></div>\n",
    "</li>\n",
    "</ol>\n"
   ]
  },
  {
   "cell_type": "markdown",
   "metadata": {},
   "source": [
    "<h3 id=\"Importing-Packages\">Importing Packages<a class=\"anchor-link\" href=\"#Importing-Packages\">¶</a></h3>"
   ]
  },
  {
   "cell_type": "code",
   "execution_count": 1,
   "metadata": {},
   "outputs": [],
   "source": [
    "\n",
    "# importing the libraries needed for this project\n",
    "import pandas as pd\n",
    "import numpy as np\n",
    "import matplotlib.pyplot as plt\n",
    "import seaborn as sns\n",
    "from datetime import date\n",
    "%matplotlib inline"
   ]
  },
  {
   "cell_type": "markdown",
   "metadata": {},
   "source": [
    "<p><a id=\"wrangling\"></a></p>\n",
    "<h2 id=\"Data-Cleaning-and-Wrangling---Players\">Data Cleaning and Wrangling - Players<a class=\"anchor-link\" href=\"#Data-Cleaning-and-Wrangling---Players\">¶</a></h2>\n"
   ]
  },
  {
   "cell_type": "code",
   "execution_count": 2,
   "metadata": {},
   "outputs": [],
   "source": [
    "# Load the players dataset\n",
    "df_player_records = pd.read_csv('players.csv')\n"
   ]
  },
  {
   "cell_type": "markdown",
   "metadata": {},
   "source": [
    "\n",
    "<h3 id=\"Perform-Data-Check-and-Inspections\">Perform Data Check and Inspections<a class=\"anchor-link\" href=\"#Perform-Data-Check-and-Inspections\">¶</a></h3>\n"
   ]
  },
  {
   "cell_type": "code",
   "execution_count": 7,
   "metadata": {},
   "outputs": [
    {
     "name": "stdout",
     "output_type": "stream",
     "text": [
      "<class 'pandas.core.frame.DataFrame'>\n",
      "RangeIndex: 183978 entries, 0 to 183977\n",
      "Data columns (total 44 columns):\n",
      "player_name            183978 non-null object\n",
      "birthday               183978 non-null object\n",
      "id                     183978 non-null int64\n",
      "player_fifa_api_id     183978 non-null int64\n",
      "player_api_id          183978 non-null int64\n",
      "date                   183978 non-null object\n",
      "overall_rating         183142 non-null float64\n",
      "potential              183142 non-null float64\n",
      "preferred_foot         183142 non-null object\n",
      "attacking_work_rate    180748 non-null object\n",
      "defensive_work_rate    183142 non-null object\n",
      "crossing               183142 non-null float64\n",
      "finishing              183142 non-null float64\n",
      "heading_accuracy       183142 non-null float64\n",
      "short_passing          183142 non-null float64\n",
      "volleys                181265 non-null float64\n",
      "dribbling              183142 non-null float64\n",
      "curve                  181265 non-null float64\n",
      "free_kick_accuracy     183142 non-null float64\n",
      "long_passing           183142 non-null float64\n",
      "ball_control           183142 non-null float64\n",
      "acceleration           183142 non-null float64\n",
      "sprint_speed           183142 non-null float64\n",
      "agility                181265 non-null float64\n",
      "reactions              183142 non-null float64\n",
      "balance                181265 non-null float64\n",
      "shot_power             183142 non-null float64\n",
      "jumping                181265 non-null float64\n",
      "stamina                183142 non-null float64\n",
      "strength               183142 non-null float64\n",
      "long_shots             183142 non-null float64\n",
      "aggression             183142 non-null float64\n",
      "interceptions          183142 non-null float64\n",
      "positioning            183142 non-null float64\n",
      "vision                 181265 non-null float64\n",
      "penalties              183142 non-null float64\n",
      "marking                183142 non-null float64\n",
      "standing_tackle        183142 non-null float64\n",
      "sliding_tackle         181265 non-null float64\n",
      "gk_diving              183142 non-null float64\n",
      "gk_handling            183142 non-null float64\n",
      "gk_kicking             183142 non-null float64\n",
      "gk_positioning         183142 non-null float64\n",
      "gk_reflexes            183142 non-null float64\n",
      "dtypes: float64(35), int64(3), object(6)\n",
      "memory usage: 61.8+ MB\n"
     ]
    }
   ],
   "source": [
    "# Checking the overall data information and types of the data\n",
    "df_player_records.info()\n"
   ]
  },
  {
   "cell_type": "code",
   "execution_count": 8,
   "metadata": {},
   "outputs": [
    {
     "data": {
      "text/plain": [
       "(183978, 44)"
      ]
     },
     "execution_count": 8,
     "metadata": {},
     "output_type": "execute_result"
    }
   ],
   "source": [
    "# check the dimensions of the dataset\n",
    "df_player_records.shape"
   ]
  },
  {
   "cell_type": "code",
   "execution_count": 9,
   "metadata": {},
   "outputs": [
    {
     "data": {
      "text/plain": [
       "0"
      ]
     },
     "execution_count": 9,
     "metadata": {},
     "output_type": "execute_result"
    }
   ],
   "source": [
    "\n",
    "# check for duplication of data\n",
    "df_player_records.duplicated().sum()\n"
   ]
  },
  {
   "cell_type": "markdown",
   "metadata": {},
   "source": [
    "<p>For my analysis on this data, I'm interested in the columns player_api_id, player_name, birthday, date, overall_rating, penalties and the goalkeeper attributes. \n",
    "So, I'll create a new data frame with just these columns.</p>"
   ]
  },
  {
   "cell_type": "code",
   "execution_count": 3,
   "metadata": {},
   "outputs": [],
   "source": [
    "\n",
    "df_players = df_player_records[['player_api_id','player_name','birthday','date','overall_rating','penalties','gk_diving','gk_handling','gk_kicking','gk_positioning','gk_reflexes']]\n",
    "\n"
   ]
  },
  {
   "cell_type": "code",
   "execution_count": 11,
   "metadata": {},
   "outputs": [
    {
     "data": {
      "text/html": [
       "<div>\n",
       "<style scoped>\n",
       "    .dataframe tbody tr th:only-of-type {\n",
       "        vertical-align: middle;\n",
       "    }\n",
       "\n",
       "    .dataframe tbody tr th {\n",
       "        vertical-align: top;\n",
       "    }\n",
       "\n",
       "    .dataframe thead th {\n",
       "        text-align: right;\n",
       "    }\n",
       "</style>\n",
       "<table border=\"1\" class=\"dataframe\">\n",
       "  <thead>\n",
       "    <tr style=\"text-align: right;\">\n",
       "      <th></th>\n",
       "      <th>player_api_id</th>\n",
       "      <th>player_name</th>\n",
       "      <th>birthday</th>\n",
       "      <th>date</th>\n",
       "      <th>overall_rating</th>\n",
       "      <th>penalties</th>\n",
       "      <th>gk_diving</th>\n",
       "      <th>gk_handling</th>\n",
       "      <th>gk_kicking</th>\n",
       "      <th>gk_positioning</th>\n",
       "      <th>gk_reflexes</th>\n",
       "    </tr>\n",
       "  </thead>\n",
       "  <tbody>\n",
       "    <tr>\n",
       "      <th>0</th>\n",
       "      <td>505942</td>\n",
       "      <td>Aaron Appindangoye</td>\n",
       "      <td>1992-02-29 00:00:00</td>\n",
       "      <td>2016-02-18 00:00:00</td>\n",
       "      <td>67.0</td>\n",
       "      <td>48.0</td>\n",
       "      <td>6.0</td>\n",
       "      <td>11.0</td>\n",
       "      <td>10.0</td>\n",
       "      <td>8.0</td>\n",
       "      <td>8.0</td>\n",
       "    </tr>\n",
       "    <tr>\n",
       "      <th>1</th>\n",
       "      <td>505942</td>\n",
       "      <td>Aaron Appindangoye</td>\n",
       "      <td>1992-02-29 00:00:00</td>\n",
       "      <td>2015-11-19 00:00:00</td>\n",
       "      <td>67.0</td>\n",
       "      <td>48.0</td>\n",
       "      <td>6.0</td>\n",
       "      <td>11.0</td>\n",
       "      <td>10.0</td>\n",
       "      <td>8.0</td>\n",
       "      <td>8.0</td>\n",
       "    </tr>\n",
       "  </tbody>\n",
       "</table>\n",
       "</div>"
      ],
      "text/plain": [
       "   player_api_id         player_name             birthday  \\\n",
       "0         505942  Aaron Appindangoye  1992-02-29 00:00:00   \n",
       "1         505942  Aaron Appindangoye  1992-02-29 00:00:00   \n",
       "\n",
       "                  date  overall_rating  penalties  gk_diving  gk_handling  \\\n",
       "0  2016-02-18 00:00:00            67.0       48.0        6.0         11.0   \n",
       "1  2015-11-19 00:00:00            67.0       48.0        6.0         11.0   \n",
       "\n",
       "   gk_kicking  gk_positioning  gk_reflexes  \n",
       "0        10.0             8.0          8.0  \n",
       "1        10.0             8.0          8.0  "
      ]
     },
     "execution_count": 11,
     "metadata": {},
     "output_type": "execute_result"
    }
   ],
   "source": [
    "# check if the created dataframe is correct\n",
    "df_players.head(2)\n"
   ]
  },
  {
   "cell_type": "code",
   "execution_count": 12,
   "metadata": {},
   "outputs": [
    {
     "data": {
      "text/plain": [
       "player_api_id       0\n",
       "player_name         0\n",
       "birthday            0\n",
       "date                0\n",
       "overall_rating    836\n",
       "penalties         836\n",
       "gk_diving         836\n",
       "gk_handling       836\n",
       "gk_kicking        836\n",
       "gk_positioning    836\n",
       "gk_reflexes       836\n",
       "dtype: int64"
      ]
     },
     "execution_count": 12,
     "metadata": {},
     "output_type": "execute_result"
    }
   ],
   "source": [
    "# check for null values\n",
    "df_players.isnull().sum()"
   ]
  },
  {
   "cell_type": "markdown",
   "metadata": {},
   "source": [
    "<p>Since, the datatypes for the missing values are all float types, I'll fill the null values with 0 as replacing with 0 will not impact my calculations.</p>"
   ]
  },
  {
   "cell_type": "code",
   "execution_count": 4,
   "metadata": {},
   "outputs": [
    {
     "name": "stderr",
     "output_type": "stream",
     "text": [
      "C:\\Users\\cr174k\\AppData\\Local\\Continuum\\anaconda3\\lib\\site-packages\\pandas\\core\\frame.py:3787: SettingWithCopyWarning: \n",
      "A value is trying to be set on a copy of a slice from a DataFrame\n",
      "\n",
      "See the caveats in the documentation: http://pandas.pydata.org/pandas-docs/stable/indexing.html#indexing-view-versus-copy\n",
      "  downcast=downcast, **kwargs)\n"
     ]
    }
   ],
   "source": [
    "# fill null values with 0\n",
    "df_players.fillna(0, inplace = True)"
   ]
  },
  {
   "cell_type": "markdown",
   "metadata": {},
   "source": [
    "<h3 id=\"Quick-Notes-on-Data-Cleaning-and-Data-Wrangling.\">Quick Notes on Data Cleaning and Data Wrangling.<a class=\"anchor-link\" href=\"#Quick-Notes-on-Data-Cleaning-and-Data-Wrangling.\">¶</a></h3><ol>\n",
    "<li>For this dataset players, there are no duplicate records.</li>\n",
    "<li>In total there are 183978 rows with 44 columns.</li>\n",
    "<li>Removed those columns which will not be used for my analysis.</li>\n",
    "<li>Filled the missing values with 0 as the data types of the missing values which I'm interested are of float data types.</li>\n",
    "</ol>"
   ]
  },
  {
   "cell_type": "markdown",
   "metadata": {},
   "source": [
    "<p><a id=\"eda\"></a></p>\n",
    "<h2 id=\"Exploratory-Data-Analysis\">Exploratory Data Analysis<a class=\"anchor-link\" href=\"#Exploratory-Data-Analysis\">¶</a></h2><h3 id=\"1.-Which-player-had-the-most-penalties?\">1. Which player had the most penalties?<a class=\"anchor-link\" href=\"#1.-Which-player-had-the-most-penalties?\">¶</a></h3>"
   ]
  },
  {
   "cell_type": "markdown",
   "metadata": {},
   "source": [
    "<p>Here for this research question, I'm interested in finding out only the field player (and not goalkeeper) who scored the most penalties.\n",
    "So, I would like to categorized the players as either Field Players or GoalKeepers. I'm deciding that if the goalkeeper attributes average are greater than 50, then the player is a goalkeeper, otherwise a field player. To do this, I created a temporary dataframe that contains the mean of the goalkeeper attributes for each player id.</p>"
   ]
  },
  {
   "cell_type": "code",
   "execution_count": 5,
   "metadata": {},
   "outputs": [],
   "source": [
    "# create a temporary dataframe containing goalkeeper attributes average\n",
    "goalkeeper_attributes_avg = df_players.loc[: , \"gk_diving\":\"gk_reflexes\"].mean(axis = 1)"
   ]
  },
  {
   "cell_type": "code",
   "execution_count": 6,
   "metadata": {},
   "outputs": [],
   "source": [
    "# create a function to check if goalkeeper for each player\n",
    "\n",
    "def goalkeeper(x):\n",
    "    if x > 50.0:\n",
    "        return \"Yes\"\n",
    "    else:\n",
    "        return \"No\""
   ]
  },
  {
   "cell_type": "code",
   "execution_count": 7,
   "metadata": {},
   "outputs": [
    {
     "name": "stderr",
     "output_type": "stream",
     "text": [
      "C:\\Users\\cr174k\\AppData\\Local\\Continuum\\anaconda3\\lib\\site-packages\\ipykernel_launcher.py:3: SettingWithCopyWarning: \n",
      "A value is trying to be set on a copy of a slice from a DataFrame.\n",
      "Try using .loc[row_indexer,col_indexer] = value instead\n",
      "\n",
      "See the caveats in the documentation: http://pandas.pydata.org/pandas-docs/stable/indexing.html#indexing-view-versus-copy\n",
      "  This is separate from the ipykernel package so we can avoid doing imports until\n"
     ]
    }
   ],
   "source": [
    "# add a column that list whether the player is a goalkeeper or not\n",
    "\n",
    "df_players['goalkeeper'] = goalkeeper_attributes_avg.apply(lambda x: goalkeeper(x))"
   ]
  },
  {
   "cell_type": "code",
   "execution_count": 8,
   "metadata": {},
   "outputs": [
    {
     "data": {
      "text/html": [
       "<div>\n",
       "<style scoped>\n",
       "    .dataframe tbody tr th:only-of-type {\n",
       "        vertical-align: middle;\n",
       "    }\n",
       "\n",
       "    .dataframe tbody tr th {\n",
       "        vertical-align: top;\n",
       "    }\n",
       "\n",
       "    .dataframe thead th {\n",
       "        text-align: right;\n",
       "    }\n",
       "</style>\n",
       "<table border=\"1\" class=\"dataframe\">\n",
       "  <thead>\n",
       "    <tr style=\"text-align: right;\">\n",
       "      <th></th>\n",
       "      <th>player_api_id</th>\n",
       "      <th>player_name</th>\n",
       "      <th>birthday</th>\n",
       "      <th>date</th>\n",
       "      <th>overall_rating</th>\n",
       "      <th>penalties</th>\n",
       "      <th>gk_diving</th>\n",
       "      <th>gk_handling</th>\n",
       "      <th>gk_kicking</th>\n",
       "      <th>gk_positioning</th>\n",
       "      <th>gk_reflexes</th>\n",
       "      <th>goalkeeper</th>\n",
       "    </tr>\n",
       "  </thead>\n",
       "  <tbody>\n",
       "    <tr>\n",
       "      <th>0</th>\n",
       "      <td>505942</td>\n",
       "      <td>Aaron Appindangoye</td>\n",
       "      <td>1992-02-29 00:00:00</td>\n",
       "      <td>2016-02-18 00:00:00</td>\n",
       "      <td>67.0</td>\n",
       "      <td>48.0</td>\n",
       "      <td>6.0</td>\n",
       "      <td>11.0</td>\n",
       "      <td>10.0</td>\n",
       "      <td>8.0</td>\n",
       "      <td>8.0</td>\n",
       "      <td>No</td>\n",
       "    </tr>\n",
       "    <tr>\n",
       "      <th>1</th>\n",
       "      <td>505942</td>\n",
       "      <td>Aaron Appindangoye</td>\n",
       "      <td>1992-02-29 00:00:00</td>\n",
       "      <td>2015-11-19 00:00:00</td>\n",
       "      <td>67.0</td>\n",
       "      <td>48.0</td>\n",
       "      <td>6.0</td>\n",
       "      <td>11.0</td>\n",
       "      <td>10.0</td>\n",
       "      <td>8.0</td>\n",
       "      <td>8.0</td>\n",
       "      <td>No</td>\n",
       "    </tr>\n",
       "  </tbody>\n",
       "</table>\n",
       "</div>"
      ],
      "text/plain": [
       "   player_api_id         player_name             birthday  \\\n",
       "0         505942  Aaron Appindangoye  1992-02-29 00:00:00   \n",
       "1         505942  Aaron Appindangoye  1992-02-29 00:00:00   \n",
       "\n",
       "                  date  overall_rating  penalties  gk_diving  gk_handling  \\\n",
       "0  2016-02-18 00:00:00            67.0       48.0        6.0         11.0   \n",
       "1  2015-11-19 00:00:00            67.0       48.0        6.0         11.0   \n",
       "\n",
       "   gk_kicking  gk_positioning  gk_reflexes goalkeeper  \n",
       "0        10.0             8.0          8.0         No  \n",
       "1        10.0             8.0          8.0         No  "
      ]
     },
     "execution_count": 8,
     "metadata": {},
     "output_type": "execute_result"
    }
   ],
   "source": [
    "# check if the dataset is still correct\n",
    "df_players.head(2)"
   ]
  },
  {
   "cell_type": "markdown",
   "metadata": {},
   "source": [
    "Now lets create a separate dataframe for field players and goalkeepers, so that it will be easy to manipulate."
   ]
  },
  {
   "cell_type": "code",
   "execution_count": 9,
   "metadata": {},
   "outputs": [],
   "source": [
    "# create field players and goalkeeper separate dataframes\n",
    "\n",
    "# only goalkeeper dataset\n",
    "df_players_goalkeeper = df_players.query('goalkeeper == \"Yes\"')\n",
    "\n",
    "# only field players_dataset\n",
    "df_players_field = df_players.query('goalkeeper == \"No\"')"
   ]
  },
  {
   "cell_type": "code",
   "execution_count": 10,
   "metadata": {},
   "outputs": [
    {
     "data": {
      "text/plain": [
       "(169280, 12)"
      ]
     },
     "execution_count": 10,
     "metadata": {},
     "output_type": "execute_result"
    }
   ],
   "source": [
    "# checking how many field players in total\n",
    "df_players_field.shape"
   ]
  },
  {
   "cell_type": "code",
   "execution_count": 11,
   "metadata": {},
   "outputs": [],
   "source": [
    "# lets create a dataframe that gives the total penalties scored by each player\n",
    "df_penalties_field = df_players_field.groupby('player_api_id')['penalties'].sum()"
   ]
  },
  {
   "cell_type": "code",
   "execution_count": 12,
   "metadata": {},
   "outputs": [
    {
     "data": {
      "text/plain": [
       "player_api_id\n",
       "2625    867.0\n",
       "2752    744.0\n",
       "Name: penalties, dtype: float64"
      ]
     },
     "execution_count": 12,
     "metadata": {},
     "output_type": "execute_result"
    }
   ],
   "source": [
    "# checking the penalties dataset\n",
    "df_penalties_field.head(2)"
   ]
  },
  {
   "cell_type": "code",
   "execution_count": 13,
   "metadata": {},
   "outputs": [
    {
     "data": {
      "text/html": [
       "<div>\n",
       "<style scoped>\n",
       "    .dataframe tbody tr th:only-of-type {\n",
       "        vertical-align: middle;\n",
       "    }\n",
       "\n",
       "    .dataframe tbody tr th {\n",
       "        vertical-align: top;\n",
       "    }\n",
       "\n",
       "    .dataframe thead th {\n",
       "        text-align: right;\n",
       "    }\n",
       "</style>\n",
       "<table border=\"1\" class=\"dataframe\">\n",
       "  <thead>\n",
       "    <tr style=\"text-align: right;\">\n",
       "      <th></th>\n",
       "      <th>player_api_id</th>\n",
       "      <th>penalties</th>\n",
       "    </tr>\n",
       "  </thead>\n",
       "  <tbody>\n",
       "    <tr>\n",
       "      <th>0</th>\n",
       "      <td>2625</td>\n",
       "      <td>867.0</td>\n",
       "    </tr>\n",
       "    <tr>\n",
       "      <th>1</th>\n",
       "      <td>2752</td>\n",
       "      <td>744.0</td>\n",
       "    </tr>\n",
       "  </tbody>\n",
       "</table>\n",
       "</div>"
      ],
      "text/plain": [
       "   player_api_id  penalties\n",
       "0           2625      867.0\n",
       "1           2752      744.0"
      ]
     },
     "execution_count": 13,
     "metadata": {},
     "output_type": "execute_result"
    }
   ],
   "source": [
    "# resetting the index of the dataset for easy manipulation\n",
    "df_penalties_field = df_penalties_field.to_frame().reset_index()\n",
    "df_penalties_field.head(2)"
   ]
  },
  {
   "cell_type": "code",
   "execution_count": 14,
   "metadata": {},
   "outputs": [
    {
     "data": {
      "text/html": [
       "<div>\n",
       "<style scoped>\n",
       "    .dataframe tbody tr th:only-of-type {\n",
       "        vertical-align: middle;\n",
       "    }\n",
       "\n",
       "    .dataframe tbody tr th {\n",
       "        vertical-align: top;\n",
       "    }\n",
       "\n",
       "    .dataframe thead th {\n",
       "        text-align: right;\n",
       "    }\n",
       "</style>\n",
       "<table border=\"1\" class=\"dataframe\">\n",
       "  <thead>\n",
       "    <tr style=\"text-align: right;\">\n",
       "      <th></th>\n",
       "      <th>player_api_id</th>\n",
       "      <th>penalties</th>\n",
       "    </tr>\n",
       "  </thead>\n",
       "  <tbody>\n",
       "    <tr>\n",
       "      <th>count</th>\n",
       "      <td>10229.000000</td>\n",
       "      <td>10229.000000</td>\n",
       "    </tr>\n",
       "    <tr>\n",
       "      <th>mean</th>\n",
       "      <td>159577.953857</td>\n",
       "      <td>942.204028</td>\n",
       "    </tr>\n",
       "    <tr>\n",
       "      <th>std</th>\n",
       "      <td>162422.777656</td>\n",
       "      <td>637.338340</td>\n",
       "    </tr>\n",
       "    <tr>\n",
       "      <th>min</th>\n",
       "      <td>2625.000000</td>\n",
       "      <td>0.000000</td>\n",
       "    </tr>\n",
       "    <tr>\n",
       "      <th>25%</th>\n",
       "      <td>35996.000000</td>\n",
       "      <td>434.000000</td>\n",
       "    </tr>\n",
       "    <tr>\n",
       "      <th>50%</th>\n",
       "      <td>98363.000000</td>\n",
       "      <td>816.000000</td>\n",
       "    </tr>\n",
       "    <tr>\n",
       "      <th>75%</th>\n",
       "      <td>213501.000000</td>\n",
       "      <td>1326.000000</td>\n",
       "    </tr>\n",
       "    <tr>\n",
       "      <th>max</th>\n",
       "      <td>750584.000000</td>\n",
       "      <td>4314.000000</td>\n",
       "    </tr>\n",
       "  </tbody>\n",
       "</table>\n",
       "</div>"
      ],
      "text/plain": [
       "       player_api_id     penalties\n",
       "count   10229.000000  10229.000000\n",
       "mean   159577.953857    942.204028\n",
       "std    162422.777656    637.338340\n",
       "min      2625.000000      0.000000\n",
       "25%     35996.000000    434.000000\n",
       "50%     98363.000000    816.000000\n",
       "75%    213501.000000   1326.000000\n",
       "max    750584.000000   4314.000000"
      ]
     },
     "execution_count": 14,
     "metadata": {},
     "output_type": "execute_result"
    }
   ],
   "source": [
    "# check the overall statistics of the penalties dataset\n",
    "df_penalties_field.describe()"
   ]
  },
  {
   "cell_type": "markdown",
   "metadata": {},
   "source": [
    "Now, the statistical description of the penalties dataset shows there are in total 10229 records of penalties with an average of around 942 penalties scored by the field players and the maximum scored is 4314."
   ]
  },
  {
   "cell_type": "code",
   "execution_count": 15,
   "metadata": {},
   "outputs": [
    {
     "data": {
      "text/html": [
       "<div>\n",
       "<style scoped>\n",
       "    .dataframe tbody tr th:only-of-type {\n",
       "        vertical-align: middle;\n",
       "    }\n",
       "\n",
       "    .dataframe tbody tr th {\n",
       "        vertical-align: top;\n",
       "    }\n",
       "\n",
       "    .dataframe thead th {\n",
       "        text-align: right;\n",
       "    }\n",
       "</style>\n",
       "<table border=\"1\" class=\"dataframe\">\n",
       "  <thead>\n",
       "    <tr style=\"text-align: right;\">\n",
       "      <th></th>\n",
       "      <th>player_api_id</th>\n",
       "      <th>penalties</th>\n",
       "    </tr>\n",
       "  </thead>\n",
       "  <tbody>\n",
       "    <tr>\n",
       "      <th>3704</th>\n",
       "      <td>41269</td>\n",
       "      <td>4314.0</td>\n",
       "    </tr>\n",
       "  </tbody>\n",
       "</table>\n",
       "</div>"
      ],
      "text/plain": [
       "      player_api_id  penalties\n",
       "3704          41269     4314.0"
      ]
     },
     "execution_count": 15,
     "metadata": {},
     "output_type": "execute_result"
    }
   ],
   "source": [
    "# fetch the player_api_id of the player who scored the max penalties (4314)\n",
    "df_penalties_field.loc[df_penalties_field['penalties'] == 4314]"
   ]
  },
  {
   "cell_type": "code",
   "execution_count": 16,
   "metadata": {},
   "outputs": [
    {
     "data": {
      "text/html": [
       "<div>\n",
       "<style scoped>\n",
       "    .dataframe tbody tr th:only-of-type {\n",
       "        vertical-align: middle;\n",
       "    }\n",
       "\n",
       "    .dataframe tbody tr th {\n",
       "        vertical-align: top;\n",
       "    }\n",
       "\n",
       "    .dataframe thead th {\n",
       "        text-align: right;\n",
       "    }\n",
       "</style>\n",
       "<table border=\"1\" class=\"dataframe\">\n",
       "  <thead>\n",
       "    <tr style=\"text-align: right;\">\n",
       "      <th></th>\n",
       "      <th>player_api_id</th>\n",
       "      <th>player_name</th>\n",
       "      <th>birthday</th>\n",
       "      <th>date</th>\n",
       "      <th>overall_rating</th>\n",
       "      <th>penalties</th>\n",
       "      <th>gk_diving</th>\n",
       "      <th>gk_handling</th>\n",
       "      <th>gk_kicking</th>\n",
       "      <th>gk_positioning</th>\n",
       "      <th>gk_reflexes</th>\n",
       "      <th>goalkeeper</th>\n",
       "    </tr>\n",
       "  </thead>\n",
       "  <tbody>\n",
       "    <tr>\n",
       "      <th>6657</th>\n",
       "      <td>41269</td>\n",
       "      <td>Alessio Cerci</td>\n",
       "      <td>1987-07-23 00:00:00</td>\n",
       "      <td>2016-04-28 00:00:00</td>\n",
       "      <td>77.0</td>\n",
       "      <td>76.0</td>\n",
       "      <td>9.0</td>\n",
       "      <td>14.0</td>\n",
       "      <td>7.0</td>\n",
       "      <td>12.0</td>\n",
       "      <td>9.0</td>\n",
       "      <td>No</td>\n",
       "    </tr>\n",
       "  </tbody>\n",
       "</table>\n",
       "</div>"
      ],
      "text/plain": [
       "      player_api_id    player_name             birthday                 date  \\\n",
       "6657          41269  Alessio Cerci  1987-07-23 00:00:00  2016-04-28 00:00:00   \n",
       "\n",
       "      overall_rating  penalties  gk_diving  gk_handling  gk_kicking  \\\n",
       "6657            77.0       76.0        9.0         14.0         7.0   \n",
       "\n",
       "      gk_positioning  gk_reflexes goalkeeper  \n",
       "6657            12.0          9.0         No  "
      ]
     },
     "execution_count": 16,
     "metadata": {},
     "output_type": "execute_result"
    }
   ],
   "source": [
    "# fetching the name of the field player with player_api_id 41269\n",
    "df_players.loc[df_players['player_api_id'] == 41269].head(1)"
   ]
  },
  {
   "cell_type": "markdown",
   "metadata": {},
   "source": [
    "<p><a id=\"eda\"></a></p>\n",
    "<h2 id=\"Exploratory-Data-Analysis\">Exploratory Data Analysis<a class=\"anchor-link\" href=\"#Exploratory-Data-Analysis\">¶</a></h2><h3 id=\"2.-Attributes-of-better-players-than-average.\">2. Attributes of better players than average.<a class=\"anchor-link\" href=\"#2.-Attributes-of-better-players-than-average.\">¶</a></h3>"
   ]
  },
  {
   "cell_type": "markdown",
   "metadata": {},
   "source": [
    "I will try to analyse the attributes of \"better players than average\" for Goalkeepers, by comparing the averages of the attributes specific to goalkeepers based on the Overall Rating. So for this analysis, I'll use the Goalkeeper specific dataset."
   ]
  },
  {
   "cell_type": "code",
   "execution_count": 17,
   "metadata": {},
   "outputs": [
    {
     "data": {
      "text/plain": [
       "(14698, 12)"
      ]
     },
     "execution_count": 17,
     "metadata": {},
     "output_type": "execute_result"
    }
   ],
   "source": [
    "# checking how many total goalkeepers are there in the dataset\n",
    "df_players_goalkeeper.shape"
   ]
  },
  {
   "cell_type": "code",
   "execution_count": 18,
   "metadata": {},
   "outputs": [
    {
     "name": "stdout",
     "output_type": "stream",
     "text": [
      "<class 'pandas.core.frame.DataFrame'>\n",
      "Int64Index: 14698 entries, 695 to 183538\n",
      "Data columns (total 12 columns):\n",
      "player_api_id     14698 non-null int64\n",
      "player_name       14698 non-null object\n",
      "birthday          14698 non-null object\n",
      "date              14698 non-null object\n",
      "overall_rating    14698 non-null float64\n",
      "penalties         14698 non-null float64\n",
      "gk_diving         14698 non-null float64\n",
      "gk_handling       14698 non-null float64\n",
      "gk_kicking        14698 non-null float64\n",
      "gk_positioning    14698 non-null float64\n",
      "gk_reflexes       14698 non-null float64\n",
      "goalkeeper        14698 non-null object\n",
      "dtypes: float64(7), int64(1), object(4)\n",
      "memory usage: 1.5+ MB\n"
     ]
    }
   ],
   "source": [
    "df_players_goalkeeper.info()"
   ]
  },
  {
   "cell_type": "code",
   "execution_count": 19,
   "metadata": {},
   "outputs": [],
   "source": [
    "# grouping the dataset based on each goalkeeper and finding the mean overall rating\n",
    "df_average_rating_GK = df_players_goalkeeper.groupby('player_api_id')['overall_rating'].mean()"
   ]
  },
  {
   "cell_type": "code",
   "execution_count": 20,
   "metadata": {},
   "outputs": [
    {
     "data": {
      "text/plain": [
       "66.88798411450055"
      ]
     },
     "execution_count": 20,
     "metadata": {},
     "output_type": "execute_result"
    }
   ],
   "source": [
    "# find the combined average rating from the grouped dataset\n",
    "average_overall_rating_GK = df_average_rating_GK.mean()\n",
    "average_overall_rating_GK"
   ]
  },
  {
   "cell_type": "code",
   "execution_count": 21,
   "metadata": {},
   "outputs": [],
   "source": [
    "# lets create a dataset containing the average of the attributes\n",
    "df_average_ratings_gk = df_players_goalkeeper.groupby('player_api_id').mean()"
   ]
  },
  {
   "cell_type": "code",
   "execution_count": 22,
   "metadata": {},
   "outputs": [
    {
     "data": {
      "text/html": [
       "<div>\n",
       "<style scoped>\n",
       "    .dataframe tbody tr th:only-of-type {\n",
       "        vertical-align: middle;\n",
       "    }\n",
       "\n",
       "    .dataframe tbody tr th {\n",
       "        vertical-align: top;\n",
       "    }\n",
       "\n",
       "    .dataframe thead th {\n",
       "        text-align: right;\n",
       "    }\n",
       "</style>\n",
       "<table border=\"1\" class=\"dataframe\">\n",
       "  <thead>\n",
       "    <tr style=\"text-align: right;\">\n",
       "      <th></th>\n",
       "      <th>overall_rating</th>\n",
       "      <th>penalties</th>\n",
       "      <th>gk_diving</th>\n",
       "      <th>gk_handling</th>\n",
       "      <th>gk_kicking</th>\n",
       "      <th>gk_positioning</th>\n",
       "      <th>gk_reflexes</th>\n",
       "    </tr>\n",
       "    <tr>\n",
       "      <th>player_api_id</th>\n",
       "      <th></th>\n",
       "      <th></th>\n",
       "      <th></th>\n",
       "      <th></th>\n",
       "      <th></th>\n",
       "      <th></th>\n",
       "      <th></th>\n",
       "    </tr>\n",
       "  </thead>\n",
       "  <tbody>\n",
       "    <tr>\n",
       "      <th>2796</th>\n",
       "      <td>64.6</td>\n",
       "      <td>21.533333</td>\n",
       "      <td>73.666667</td>\n",
       "      <td>59.000</td>\n",
       "      <td>59.866667</td>\n",
       "      <td>57.933333</td>\n",
       "      <td>69.533333</td>\n",
       "    </tr>\n",
       "    <tr>\n",
       "      <th>2984</th>\n",
       "      <td>68.5</td>\n",
       "      <td>55.500000</td>\n",
       "      <td>72.750000</td>\n",
       "      <td>63.375</td>\n",
       "      <td>62.500000</td>\n",
       "      <td>63.125000</td>\n",
       "      <td>73.625000</td>\n",
       "    </tr>\n",
       "  </tbody>\n",
       "</table>\n",
       "</div>"
      ],
      "text/plain": [
       "               overall_rating  penalties  gk_diving  gk_handling  gk_kicking  \\\n",
       "player_api_id                                                                  \n",
       "2796                     64.6  21.533333  73.666667       59.000   59.866667   \n",
       "2984                     68.5  55.500000  72.750000       63.375   62.500000   \n",
       "\n",
       "               gk_positioning  gk_reflexes  \n",
       "player_api_id                               \n",
       "2796                57.933333    69.533333  \n",
       "2984                63.125000    73.625000  "
      ]
     },
     "execution_count": 22,
     "metadata": {},
     "output_type": "execute_result"
    }
   ],
   "source": [
    "# checking the dataset\n",
    "df_average_ratings_gk.head(2)"
   ]
  },
  {
   "cell_type": "code",
   "execution_count": 23,
   "metadata": {},
   "outputs": [],
   "source": [
    "# creating different datasets for better than average and lesser than average goalkeepers\n",
    "\n",
    "# for better than average goalkeepers\n",
    "df_better_goalkeepers = df_average_ratings_gk.query('overall_rating >= {}'.format(average_overall_rating_GK))\n",
    "\n",
    "# for lesser than average goalkeepers\n",
    "df_lesser_goalkeepers = df_average_ratings_gk.query('overall_rating < {}'.format(average_overall_rating_GK))"
   ]
  },
  {
   "cell_type": "code",
   "execution_count": 24,
   "metadata": {},
   "outputs": [
    {
     "name": "stdout",
     "output_type": "stream",
     "text": [
      "<class 'pandas.core.frame.DataFrame'>\n",
      "Int64Index: 474 entries, 2984 to 698273\n",
      "Data columns (total 7 columns):\n",
      "overall_rating    474 non-null float64\n",
      "penalties         474 non-null float64\n",
      "gk_diving         474 non-null float64\n",
      "gk_handling       474 non-null float64\n",
      "gk_kicking        474 non-null float64\n",
      "gk_positioning    474 non-null float64\n",
      "gk_reflexes       474 non-null float64\n",
      "dtypes: float64(7)\n",
      "memory usage: 29.6 KB\n"
     ]
    }
   ],
   "source": [
    "# checking the columns and data informations\n",
    "df_better_goalkeepers.info()"
   ]
  },
  {
   "cell_type": "code",
   "execution_count": 25,
   "metadata": {},
   "outputs": [
    {
     "name": "stderr",
     "output_type": "stream",
     "text": [
      "C:\\Users\\cr174k\\AppData\\Local\\Continuum\\anaconda3\\lib\\site-packages\\pandas\\core\\frame.py:3694: SettingWithCopyWarning: \n",
      "A value is trying to be set on a copy of a slice from a DataFrame\n",
      "\n",
      "See the caveats in the documentation: http://pandas.pydata.org/pandas-docs/stable/indexing.html#indexing-view-versus-copy\n",
      "  errors=errors)\n"
     ]
    }
   ],
   "source": [
    "# droping the overall_rating and penalties columns as they are no longer required.\n",
    "df_better_goalkeepers.drop(['overall_rating','penalties'], inplace = True, axis = 1)\n",
    "df_lesser_goalkeepers.drop(['overall_rating','penalties'], inplace = True, axis = 1)"
   ]
  },
  {
   "cell_type": "code",
   "execution_count": 26,
   "metadata": {},
   "outputs": [
    {
     "name": "stdout",
     "output_type": "stream",
     "text": [
      "gk_diving         73.370567\n",
      "gk_handling       70.402880\n",
      "gk_kicking        67.797872\n",
      "gk_positioning    71.367456\n",
      "gk_reflexes       74.971756\n",
      "dtype: float64\n",
      "gk_diving         63.662368\n",
      "gk_handling       60.073154\n",
      "gk_kicking        59.134853\n",
      "gk_positioning    60.658438\n",
      "gk_reflexes       64.898287\n",
      "dtype: float64\n"
     ]
    }
   ],
   "source": [
    "# checking the mean values for the attributes for better goalkeepers\n",
    "print(df_better_goalkeepers.mean())\n",
    "\n",
    "# checking the mean values for the attributes for lesser goalkeepers\n",
    "print(df_lesser_goalkeepers.mean())"
   ]
  },
  {
   "cell_type": "code",
   "execution_count": 31,
   "metadata": {},
   "outputs": [
    {
     "data": {
      "image/png": "[encoded data removed]",
      "text/plain": [
       "<Figure size 576x432 with 1 Axes>"
      ]
     },
     "metadata": {},
     "output_type": "display_data"
    }
   ],
   "source": [
    "# Setting up the parameters for plotting the dataset comparisons and plotting the multi bar chart\n",
    "\n",
    "plt.figure(figsize = [8,6]);\n",
    "heights1 = df_better_goalkeepers.mean()\n",
    "heights2 = df_lesser_goalkeepers.mean()\n",
    "ind = np.arange(len(heights1))\n",
    "width = 0.35\n",
    "\n",
    "# plot bars\n",
    "better_gk = plt.bar(ind, heights1, width, color='b', alpha=.5, label='Better Average Goalkeepers')\n",
    "lesser_avg_gk = plt.bar(ind + width, heights2, width, color='r',alpha = 0.5, label='Lesser Average Goalkeepers')\n",
    "\n",
    "# title and labels\n",
    "plt.ylabel('Overall Ratings')\n",
    "plt.xlabel('Goalkeeper Attributes')\n",
    "plt.title('Goalkeeper attributes comparison for better and lesser than average ratings')\n",
    "plt.rcParams['figure.figsize'] = (10,8)\n",
    "\n",
    "locations = ind + width / 2  # xtick locations\n",
    "labels = ['gk_diving','gk_handling','gk_kicking','gk_positioning','gk_reflexes']  # xtick labels\n",
    "plt.xticks(locations, labels)\n",
    "\n",
    "# legend\n",
    "plt.legend(bbox_to_anchor = (1.05 , 1), loc = 2, borderaxespad = 0.);"
   ]
  },
  {
   "cell_type": "code",
   "execution_count": null,
   "metadata": {},
   "outputs": [],
   "source": []
  }
 ],
 "metadata": {
  "kernelspec": {
   "display_name": "Python 3",
   "language": "python",
   "name": "python3"
  },
  "language_info": {
   "codemirror_mode": {
    "name": "ipython",
    "version": 3
   },
   "file_extension": ".py",
   "mimetype": "text/x-python",
   "name": "python",
   "nbconvert_exporter": "python",
   "pygments_lexer": "ipython3",
   "version": "3.6.5"
  }
 },
 "nbformat": 4,
 "nbformat_minor": 2
}
