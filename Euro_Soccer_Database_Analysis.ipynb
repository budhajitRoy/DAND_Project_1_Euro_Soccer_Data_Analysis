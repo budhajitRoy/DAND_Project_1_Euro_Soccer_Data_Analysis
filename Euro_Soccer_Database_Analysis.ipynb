{
 "cells": [
  {
   "cell_type": "markdown",
   "metadata": {},
   "source": [
    "<h1 id=\"Project:-Euro-Soccer-Database-Analysis\">Project: Euro Soccer Database Analysis<a class=\"anchor-link\" href=\"#Project:-Euro-Soccer-Database-Analysis\">¶</a></h1><h2 id=\"Table-of-Contents\">Table of Contents<a class=\"anchor-link\" href=\"#Table-of-Contents\">¶</a></h2><ul>\n",
    "<li><a href=\"#intro\">Introduction</a></li>\n",
    "<li><a href=\"#wrangling\">Data Wrangling</a></li>\n",
    "<li><a href=\"#eda\">Exploratory Data Analysis</a></li>\n",
    "<li><a href=\"#conclusions\">Conclusions</a></li>\n",
    "</ul>\n"
   ]
  },
  {
   "cell_type": "markdown",
   "metadata": {},
   "source": [
    "<p><a id=\"intro\"></a></p>\n",
    "<h2 id=\"Introduction\">Introduction<a class=\"anchor-link\" href=\"#Introduction\">¶</a></h2><p>As a Soccer fan, I have decided to take up the Euro Soccer Database for analysis. I have used DB Browser for SQLite to extract the datasets from the Database. Following are the questions that I have come up for analysis. I have divided the questions or research analysis set into two groups, one related to Players and one to Teams:</p><p></p><p>On Players:</p>\n",
    "<ol>\n",
    "<li>Which player has the most penalties? </li>\n",
    "<li>Attributes of better players than average?</li>\n",
    "<li>Age and Overall Rating relationship analysis.</li>\n",
    "</ol>\n",
    "<p></p><p>On Teams:</p>\n",
    "<ol>\n",
    "<li>Which team improved the most over the time period? </li>\n",
    "<li>Home and Away Games - winning and losing ratio analysis.</li>\n",
    "</ol>\n"
   ]
  },
  {
   "cell_type": "markdown",
   "metadata": {},
   "source": [
    "<h3 id=\"SQL-Queries-Used:\">SQL Queries Used:<a class=\"anchor-link\" href=\"#SQL-Queries-Used:\">¶</a></h3><p>Following SQL Queries are used to combine the tables mentioned in the section above.</p>\n",
    "<ol>\n",
    "<li><p>For players dataset: I needed the player's name and birthday from Player table and the attributes from Player_Attributes table.</p>\n",
    "<div class=\"highlight\"><pre><span></span><span class=\"k\">SELECT</span> <span class=\"n\">p</span><span class=\"p\">.</span><span class=\"n\">player_name</span><span class=\"p\">,</span> <span class=\"n\">p</span><span class=\"p\">.</span><span class=\"n\">birthday</span><span class=\"p\">,</span> <span class=\"n\">pa</span><span class=\"p\">.</span><span class=\"o\">*</span> <span class=\"k\">FROM</span> <span class=\"n\">Player</span> <span class=\"n\">p</span> <span class=\"k\">JOIN</span> <span class=\"n\">Player_Attributes</span> <span class=\"n\">pa</span> <span class=\"k\">ON</span> <span class=\"n\">p</span><span class=\"p\">.</span><span class=\"n\">player_api_id</span> <span class=\"o\">=</span> <span class=\"n\">pa</span><span class=\"p\">.</span><span class=\"n\">player_api_id</span><span class=\"p\">;</span>\n",
    "</pre></div>\n",
    "</li>\n",
    "<li><p>To form team_match_records dataset: I needed the date, match_api_id, home_team_api_id, away_team_api_id, home_team_goal and away_team_goal from the Match Table.</p>\n",
    "<div class=\"highlight\"><pre><span></span><span class=\"k\">SELECT</span> <span class=\"kt\">date</span><span class=\"p\">,</span> <span class=\"n\">match_api_id</span><span class=\"p\">,</span> <span class=\"n\">home_team_api_id</span><span class=\"p\">,</span> <span class=\"n\">away_team_api_id</span><span class=\"p\">,</span> <span class=\"n\">home_team_goal</span><span class=\"p\">,</span> <span class=\"n\">away_team_goal</span> <span class=\"k\">FROM</span> <span class=\"k\">Match</span><span class=\"p\">;</span>\n",
    "</pre></div>\n",
    "</li>\n",
    "</ol>\n"
   ]
  },
  {
   "cell_type": "markdown",
   "metadata": {},
   "source": [
    "<h3 id=\"Importing-Packages\">Importing Packages<a class=\"anchor-link\" href=\"#Importing-Packages\">¶</a></h3>"
   ]
  },
  {
   "cell_type": "code",
   "execution_count": 1,
   "metadata": {},
   "outputs": [],
   "source": [
    "\n",
    "# importing the libraries needed for this project\n",
    "import pandas as pd\n",
    "import numpy as np\n",
    "import matplotlib.pyplot as plt\n",
    "import seaborn as sns\n",
    "from datetime import date\n",
    "%matplotlib inline"
   ]
  },
  {
   "cell_type": "markdown",
   "metadata": {},
   "source": [
    "<p><a id=\"wrangling\"></a></p>\n",
    "<h2 id=\"Data-Cleaning-and-Wrangling---Players\">Data Cleaning and Wrangling - Players<a class=\"anchor-link\" href=\"#Data-Cleaning-and-Wrangling---Players\">¶</a></h2>\n"
   ]
  },
  {
   "cell_type": "code",
   "execution_count": 2,
   "metadata": {},
   "outputs": [],
   "source": [
    "# Load the players dataset\n",
    "df_player_records = pd.read_csv('players.csv')\n"
   ]
  },
  {
   "cell_type": "markdown",
   "metadata": {},
   "source": [
    "\n",
    "<h3 id=\"Perform-Data-Check-and-Inspections\">Perform Data Check and Inspections<a class=\"anchor-link\" href=\"#Perform-Data-Check-and-Inspections\">¶</a></h3>\n"
   ]
  },
  {
   "cell_type": "code",
   "execution_count": 3,
   "metadata": {},
   "outputs": [
    {
     "name": "stdout",
     "output_type": "stream",
     "text": [
      "<class 'pandas.core.frame.DataFrame'>\n",
      "RangeIndex: 183978 entries, 0 to 183977\n",
      "Data columns (total 44 columns):\n",
      "player_name            183978 non-null object\n",
      "birthday               183978 non-null object\n",
      "id                     183978 non-null int64\n",
      "player_fifa_api_id     183978 non-null int64\n",
      "player_api_id          183978 non-null int64\n",
      "date                   183978 non-null object\n",
      "overall_rating         183142 non-null float64\n",
      "potential              183142 non-null float64\n",
      "preferred_foot         183142 non-null object\n",
      "attacking_work_rate    180748 non-null object\n",
      "defensive_work_rate    183142 non-null object\n",
      "crossing               183142 non-null float64\n",
      "finishing              183142 non-null float64\n",
      "heading_accuracy       183142 non-null float64\n",
      "short_passing          183142 non-null float64\n",
      "volleys                181265 non-null float64\n",
      "dribbling              183142 non-null float64\n",
      "curve                  181265 non-null float64\n",
      "free_kick_accuracy     183142 non-null float64\n",
      "long_passing           183142 non-null float64\n",
      "ball_control           183142 non-null float64\n",
      "acceleration           183142 non-null float64\n",
      "sprint_speed           183142 non-null float64\n",
      "agility                181265 non-null float64\n",
      "reactions              183142 non-null float64\n",
      "balance                181265 non-null float64\n",
      "shot_power             183142 non-null float64\n",
      "jumping                181265 non-null float64\n",
      "stamina                183142 non-null float64\n",
      "strength               183142 non-null float64\n",
      "long_shots             183142 non-null float64\n",
      "aggression             183142 non-null float64\n",
      "interceptions          183142 non-null float64\n",
      "positioning            183142 non-null float64\n",
      "vision                 181265 non-null float64\n",
      "penalties              183142 non-null float64\n",
      "marking                183142 non-null float64\n",
      "standing_tackle        183142 non-null float64\n",
      "sliding_tackle         181265 non-null float64\n",
      "gk_diving              183142 non-null float64\n",
      "gk_handling            183142 non-null float64\n",
      "gk_kicking             183142 non-null float64\n",
      "gk_positioning         183142 non-null float64\n",
      "gk_reflexes            183142 non-null float64\n",
      "dtypes: float64(35), int64(3), object(6)\n",
      "memory usage: 61.8+ MB\n"
     ]
    }
   ],
   "source": [
    "# Checking the overall data information and types of the data\n",
    "df_player_records.info()\n"
   ]
  },
  {
   "cell_type": "code",
   "execution_count": 8,
   "metadata": {},
   "outputs": [
    {
     "data": {
      "text/plain": [
       "(183978, 44)"
      ]
     },
     "execution_count": 8,
     "metadata": {},
     "output_type": "execute_result"
    }
   ],
   "source": [
    "# check the dimensions of the dataset\n",
    "df_player_records.shape"
   ]
  },
  {
   "cell_type": "code",
   "execution_count": 9,
   "metadata": {},
   "outputs": [
    {
     "data": {
      "text/plain": [
       "0"
      ]
     },
     "execution_count": 9,
     "metadata": {},
     "output_type": "execute_result"
    }
   ],
   "source": [
    "\n",
    "# check for duplication of data\n",
    "df_player_records.duplicated().sum()\n"
   ]
  },
  {
   "cell_type": "markdown",
   "metadata": {},
   "source": [
    "<p>For my analysis on this data, I'm interested in the columns player_api_id, player_name, birthday, date, overall_rating, penalties and the goalkeeper attributes. \n",
    "So, I'll create a new data frame with just these columns.</p>"
   ]
  },
  {
   "cell_type": "code",
   "execution_count": 3,
   "metadata": {},
   "outputs": [],
   "source": [
    "\n",
    "df_players = df_player_records[['player_api_id','player_name','birthday','date','overall_rating','penalties','gk_diving','gk_handling','gk_kicking','gk_positioning','gk_reflexes']]\n",
    "\n"
   ]
  },
  {
   "cell_type": "code",
   "execution_count": 11,
   "metadata": {},
   "outputs": [
    {
     "data": {
      "text/html": [
       "<div>\n",
       "<style scoped>\n",
       "    .dataframe tbody tr th:only-of-type {\n",
       "        vertical-align: middle;\n",
       "    }\n",
       "\n",
       "    .dataframe tbody tr th {\n",
       "        vertical-align: top;\n",
       "    }\n",
       "\n",
       "    .dataframe thead th {\n",
       "        text-align: right;\n",
       "    }\n",
       "</style>\n",
       "<table border=\"1\" class=\"dataframe\">\n",
       "  <thead>\n",
       "    <tr style=\"text-align: right;\">\n",
       "      <th></th>\n",
       "      <th>player_api_id</th>\n",
       "      <th>player_name</th>\n",
       "      <th>birthday</th>\n",
       "      <th>date</th>\n",
       "      <th>overall_rating</th>\n",
       "      <th>penalties</th>\n",
       "      <th>gk_diving</th>\n",
       "      <th>gk_handling</th>\n",
       "      <th>gk_kicking</th>\n",
       "      <th>gk_positioning</th>\n",
       "      <th>gk_reflexes</th>\n",
       "    </tr>\n",
       "  </thead>\n",
       "  <tbody>\n",
       "    <tr>\n",
       "      <th>0</th>\n",
       "      <td>505942</td>\n",
       "      <td>Aaron Appindangoye</td>\n",
       "      <td>1992-02-29 00:00:00</td>\n",
       "      <td>2016-02-18 00:00:00</td>\n",
       "      <td>67.0</td>\n",
       "      <td>48.0</td>\n",
       "      <td>6.0</td>\n",
       "      <td>11.0</td>\n",
       "      <td>10.0</td>\n",
       "      <td>8.0</td>\n",
       "      <td>8.0</td>\n",
       "    </tr>\n",
       "    <tr>\n",
       "      <th>1</th>\n",
       "      <td>505942</td>\n",
       "      <td>Aaron Appindangoye</td>\n",
       "      <td>1992-02-29 00:00:00</td>\n",
       "      <td>2015-11-19 00:00:00</td>\n",
       "      <td>67.0</td>\n",
       "      <td>48.0</td>\n",
       "      <td>6.0</td>\n",
       "      <td>11.0</td>\n",
       "      <td>10.0</td>\n",
       "      <td>8.0</td>\n",
       "      <td>8.0</td>\n",
       "    </tr>\n",
       "  </tbody>\n",
       "</table>\n",
       "</div>"
      ],
      "text/plain": [
       "   player_api_id         player_name             birthday  \\\n",
       "0         505942  Aaron Appindangoye  1992-02-29 00:00:00   \n",
       "1         505942  Aaron Appindangoye  1992-02-29 00:00:00   \n",
       "\n",
       "                  date  overall_rating  penalties  gk_diving  gk_handling  \\\n",
       "0  2016-02-18 00:00:00            67.0       48.0        6.0         11.0   \n",
       "1  2015-11-19 00:00:00            67.0       48.0        6.0         11.0   \n",
       "\n",
       "   gk_kicking  gk_positioning  gk_reflexes  \n",
       "0        10.0             8.0          8.0  \n",
       "1        10.0             8.0          8.0  "
      ]
     },
     "execution_count": 11,
     "metadata": {},
     "output_type": "execute_result"
    }
   ],
   "source": [
    "# check if the created dataframe is correct\n",
    "df_players.head(2)\n"
   ]
  },
  {
   "cell_type": "code",
   "execution_count": 12,
   "metadata": {},
   "outputs": [
    {
     "data": {
      "text/plain": [
       "player_api_id       0\n",
       "player_name         0\n",
       "birthday            0\n",
       "date                0\n",
       "overall_rating    836\n",
       "penalties         836\n",
       "gk_diving         836\n",
       "gk_handling       836\n",
       "gk_kicking        836\n",
       "gk_positioning    836\n",
       "gk_reflexes       836\n",
       "dtype: int64"
      ]
     },
     "execution_count": 12,
     "metadata": {},
     "output_type": "execute_result"
    }
   ],
   "source": [
    "# check for null values\n",
    "df_players.isnull().sum()"
   ]
  },
  {
   "cell_type": "markdown",
   "metadata": {},
   "source": [
    "<p>Since, the datatypes for the missing values are all float types, I'll fill the null values with 0 as replacing with 0 will not impact my calculations.</p>"
   ]
  },
  {
   "cell_type": "code",
   "execution_count": 4,
   "metadata": {},
   "outputs": [
    {
     "name": "stderr",
     "output_type": "stream",
     "text": [
      "C:\\Users\\cr174k\\AppData\\Local\\Continuum\\anaconda3\\lib\\site-packages\\pandas\\core\\frame.py:3787: SettingWithCopyWarning: \n",
      "A value is trying to be set on a copy of a slice from a DataFrame\n",
      "\n",
      "See the caveats in the documentation: http://pandas.pydata.org/pandas-docs/stable/indexing.html#indexing-view-versus-copy\n",
      "  downcast=downcast, **kwargs)\n"
     ]
    }
   ],
   "source": [
    "# fill null values with 0\n",
    "df_players.fillna(0, inplace = True)"
   ]
  },
  {
   "cell_type": "markdown",
   "metadata": {},
   "source": [
    "<h3 id=\"Quick-Notes-on-Data-Cleaning-and-Data-Wrangling.\">Quick Notes on Data Cleaning and Data Wrangling.<a class=\"anchor-link\" href=\"#Quick-Notes-on-Data-Cleaning-and-Data-Wrangling.\">¶</a></h3><ol>\n",
    "<li>For this dataset players, there are no duplicate records.</li>\n",
    "<li>In total there are 183978 rows with 44 columns.</li>\n",
    "<li>Removed those columns which will not be used for my analysis.</li>\n",
    "<li>Filled the missing values with 0 as the data types of the missing values which I'm interested are of float data types.</li>\n",
    "</ol>"
   ]
  },
  {
   "cell_type": "markdown",
   "metadata": {},
   "source": [
    "<p><a id=\"eda\"></a></p>\n",
    "<h2 id=\"Exploratory-Data-Analysis\">Exploratory Data Analysis<a class=\"anchor-link\" href=\"#Exploratory-Data-Analysis\">¶</a></h2><h3 id=\"1.-Which-player-had-the-most-penalties?\">1. Which player had the most penalties?<a class=\"anchor-link\" href=\"#1.-Which-player-had-the-most-penalties?\">¶</a></h3>"
   ]
  },
  {
   "cell_type": "markdown",
   "metadata": {},
   "source": [
    "<p>Here for this research question, I'm interested in finding out only the field player (and not goalkeeper) who scored the most penalties.\n",
    "So, I would like to categorized the players as either Field Players or GoalKeepers. I'm deciding that if the goalkeeper attributes average are greater than 50, then the player is a goalkeeper, otherwise a field player. To do this, I created a temporary dataframe that contains the mean of the goalkeeper attributes for each player id.</p>"
   ]
  },
  {
   "cell_type": "code",
   "execution_count": 5,
   "metadata": {},
   "outputs": [],
   "source": [
    "# create a temporary dataframe containing goalkeeper attributes average\n",
    "goalkeeper_attributes_avg = df_players.loc[: , \"gk_diving\":\"gk_reflexes\"].mean(axis = 1)"
   ]
  },
  {
   "cell_type": "code",
   "execution_count": 6,
   "metadata": {},
   "outputs": [],
   "source": [
    "# create a function to check if goalkeeper for each player\n",
    "\n",
    "def goalkeeper(x):\n",
    "    if x > 50.0:\n",
    "        return \"Yes\"\n",
    "    else:\n",
    "        return \"No\""
   ]
  },
  {
   "cell_type": "code",
   "execution_count": 7,
   "metadata": {},
   "outputs": [
    {
     "name": "stderr",
     "output_type": "stream",
     "text": [
      "C:\\Users\\cr174k\\AppData\\Local\\Continuum\\anaconda3\\lib\\site-packages\\ipykernel_launcher.py:3: SettingWithCopyWarning: \n",
      "A value is trying to be set on a copy of a slice from a DataFrame.\n",
      "Try using .loc[row_indexer,col_indexer] = value instead\n",
      "\n",
      "See the caveats in the documentation: http://pandas.pydata.org/pandas-docs/stable/indexing.html#indexing-view-versus-copy\n",
      "  This is separate from the ipykernel package so we can avoid doing imports until\n"
     ]
    }
   ],
   "source": [
    "# add a column that list whether the player is a goalkeeper or not\n",
    "\n",
    "df_players['goalkeeper'] = goalkeeper_attributes_avg.apply(lambda x: goalkeeper(x))"
   ]
  },
  {
   "cell_type": "code",
   "execution_count": 8,
   "metadata": {},
   "outputs": [
    {
     "data": {
      "text/html": [
       "<div>\n",
       "<style scoped>\n",
       "    .dataframe tbody tr th:only-of-type {\n",
       "        vertical-align: middle;\n",
       "    }\n",
       "\n",
       "    .dataframe tbody tr th {\n",
       "        vertical-align: top;\n",
       "    }\n",
       "\n",
       "    .dataframe thead th {\n",
       "        text-align: right;\n",
       "    }\n",
       "</style>\n",
       "<table border=\"1\" class=\"dataframe\">\n",
       "  <thead>\n",
       "    <tr style=\"text-align: right;\">\n",
       "      <th></th>\n",
       "      <th>player_api_id</th>\n",
       "      <th>player_name</th>\n",
       "      <th>birthday</th>\n",
       "      <th>date</th>\n",
       "      <th>overall_rating</th>\n",
       "      <th>penalties</th>\n",
       "      <th>gk_diving</th>\n",
       "      <th>gk_handling</th>\n",
       "      <th>gk_kicking</th>\n",
       "      <th>gk_positioning</th>\n",
       "      <th>gk_reflexes</th>\n",
       "      <th>goalkeeper</th>\n",
       "    </tr>\n",
       "  </thead>\n",
       "  <tbody>\n",
       "    <tr>\n",
       "      <th>0</th>\n",
       "      <td>505942</td>\n",
       "      <td>Aaron Appindangoye</td>\n",
       "      <td>1992-02-29 00:00:00</td>\n",
       "      <td>2016-02-18 00:00:00</td>\n",
       "      <td>67.0</td>\n",
       "      <td>48.0</td>\n",
       "      <td>6.0</td>\n",
       "      <td>11.0</td>\n",
       "      <td>10.0</td>\n",
       "      <td>8.0</td>\n",
       "      <td>8.0</td>\n",
       "      <td>No</td>\n",
       "    </tr>\n",
       "    <tr>\n",
       "      <th>1</th>\n",
       "      <td>505942</td>\n",
       "      <td>Aaron Appindangoye</td>\n",
       "      <td>1992-02-29 00:00:00</td>\n",
       "      <td>2015-11-19 00:00:00</td>\n",
       "      <td>67.0</td>\n",
       "      <td>48.0</td>\n",
       "      <td>6.0</td>\n",
       "      <td>11.0</td>\n",
       "      <td>10.0</td>\n",
       "      <td>8.0</td>\n",
       "      <td>8.0</td>\n",
       "      <td>No</td>\n",
       "    </tr>\n",
       "  </tbody>\n",
       "</table>\n",
       "</div>"
      ],
      "text/plain": [
       "   player_api_id         player_name             birthday  \\\n",
       "0         505942  Aaron Appindangoye  1992-02-29 00:00:00   \n",
       "1         505942  Aaron Appindangoye  1992-02-29 00:00:00   \n",
       "\n",
       "                  date  overall_rating  penalties  gk_diving  gk_handling  \\\n",
       "0  2016-02-18 00:00:00            67.0       48.0        6.0         11.0   \n",
       "1  2015-11-19 00:00:00            67.0       48.0        6.0         11.0   \n",
       "\n",
       "   gk_kicking  gk_positioning  gk_reflexes goalkeeper  \n",
       "0        10.0             8.0          8.0         No  \n",
       "1        10.0             8.0          8.0         No  "
      ]
     },
     "execution_count": 8,
     "metadata": {},
     "output_type": "execute_result"
    }
   ],
   "source": [
    "# check if the dataset is still correct\n",
    "df_players.head(2)"
   ]
  },
  {
   "cell_type": "markdown",
   "metadata": {},
   "source": [
    "Now lets create a separate dataframe for field players and goalkeepers, so that it will be easy to manipulate."
   ]
  },
  {
   "cell_type": "code",
   "execution_count": 8,
   "metadata": {},
   "outputs": [],
   "source": [
    "# create field players and goalkeeper separate dataframes\n",
    "\n",
    "# only goalkeeper dataset\n",
    "df_players_goalkeeper = df_players.query('goalkeeper == \"Yes\"')\n",
    "\n",
    "# only field players_dataset\n",
    "df_players_field = df_players.query('goalkeeper == \"No\"')"
   ]
  },
  {
   "cell_type": "code",
   "execution_count": 10,
   "metadata": {},
   "outputs": [
    {
     "data": {
      "text/plain": [
       "(169280, 12)"
      ]
     },
     "execution_count": 10,
     "metadata": {},
     "output_type": "execute_result"
    }
   ],
   "source": [
    "# checking how many field players in total\n",
    "df_players_field.shape"
   ]
  },
  {
   "cell_type": "code",
   "execution_count": 9,
   "metadata": {},
   "outputs": [],
   "source": [
    "# lets create a dataframe that gives the total penalties scored by each player\n",
    "df_penalties_field = df_players_field.groupby('player_api_id')['penalties'].sum()"
   ]
  },
  {
   "cell_type": "code",
   "execution_count": 12,
   "metadata": {},
   "outputs": [
    {
     "data": {
      "text/plain": [
       "player_api_id\n",
       "2625    867.0\n",
       "2752    744.0\n",
       "Name: penalties, dtype: float64"
      ]
     },
     "execution_count": 12,
     "metadata": {},
     "output_type": "execute_result"
    }
   ],
   "source": [
    "# checking the penalties dataset\n",
    "df_penalties_field.head(2)"
   ]
  },
  {
   "cell_type": "code",
   "execution_count": 10,
   "metadata": {},
   "outputs": [
    {
     "data": {
      "text/html": [
       "<div>\n",
       "<style scoped>\n",
       "    .dataframe tbody tr th:only-of-type {\n",
       "        vertical-align: middle;\n",
       "    }\n",
       "\n",
       "    .dataframe tbody tr th {\n",
       "        vertical-align: top;\n",
       "    }\n",
       "\n",
       "    .dataframe thead th {\n",
       "        text-align: right;\n",
       "    }\n",
       "</style>\n",
       "<table border=\"1\" class=\"dataframe\">\n",
       "  <thead>\n",
       "    <tr style=\"text-align: right;\">\n",
       "      <th></th>\n",
       "      <th>player_api_id</th>\n",
       "      <th>penalties</th>\n",
       "    </tr>\n",
       "  </thead>\n",
       "  <tbody>\n",
       "    <tr>\n",
       "      <th>0</th>\n",
       "      <td>2625</td>\n",
       "      <td>867.0</td>\n",
       "    </tr>\n",
       "    <tr>\n",
       "      <th>1</th>\n",
       "      <td>2752</td>\n",
       "      <td>744.0</td>\n",
       "    </tr>\n",
       "  </tbody>\n",
       "</table>\n",
       "</div>"
      ],
      "text/plain": [
       "   player_api_id  penalties\n",
       "0           2625      867.0\n",
       "1           2752      744.0"
      ]
     },
     "execution_count": 10,
     "metadata": {},
     "output_type": "execute_result"
    }
   ],
   "source": [
    "# resetting the index of the dataset for easy manipulation\n",
    "df_penalties_field = df_penalties_field.to_frame().reset_index()\n",
    "df_penalties_field.head(2)"
   ]
  },
  {
   "cell_type": "code",
   "execution_count": 14,
   "metadata": {},
   "outputs": [
    {
     "data": {
      "text/html": [
       "<div>\n",
       "<style scoped>\n",
       "    .dataframe tbody tr th:only-of-type {\n",
       "        vertical-align: middle;\n",
       "    }\n",
       "\n",
       "    .dataframe tbody tr th {\n",
       "        vertical-align: top;\n",
       "    }\n",
       "\n",
       "    .dataframe thead th {\n",
       "        text-align: right;\n",
       "    }\n",
       "</style>\n",
       "<table border=\"1\" class=\"dataframe\">\n",
       "  <thead>\n",
       "    <tr style=\"text-align: right;\">\n",
       "      <th></th>\n",
       "      <th>player_api_id</th>\n",
       "      <th>penalties</th>\n",
       "    </tr>\n",
       "  </thead>\n",
       "  <tbody>\n",
       "    <tr>\n",
       "      <th>count</th>\n",
       "      <td>10229.000000</td>\n",
       "      <td>10229.000000</td>\n",
       "    </tr>\n",
       "    <tr>\n",
       "      <th>mean</th>\n",
       "      <td>159577.953857</td>\n",
       "      <td>942.204028</td>\n",
       "    </tr>\n",
       "    <tr>\n",
       "      <th>std</th>\n",
       "      <td>162422.777656</td>\n",
       "      <td>637.338340</td>\n",
       "    </tr>\n",
       "    <tr>\n",
       "      <th>min</th>\n",
       "      <td>2625.000000</td>\n",
       "      <td>0.000000</td>\n",
       "    </tr>\n",
       "    <tr>\n",
       "      <th>25%</th>\n",
       "      <td>35996.000000</td>\n",
       "      <td>434.000000</td>\n",
       "    </tr>\n",
       "    <tr>\n",
       "      <th>50%</th>\n",
       "      <td>98363.000000</td>\n",
       "      <td>816.000000</td>\n",
       "    </tr>\n",
       "    <tr>\n",
       "      <th>75%</th>\n",
       "      <td>213501.000000</td>\n",
       "      <td>1326.000000</td>\n",
       "    </tr>\n",
       "    <tr>\n",
       "      <th>max</th>\n",
       "      <td>750584.000000</td>\n",
       "      <td>4314.000000</td>\n",
       "    </tr>\n",
       "  </tbody>\n",
       "</table>\n",
       "</div>"
      ],
      "text/plain": [
       "       player_api_id     penalties\n",
       "count   10229.000000  10229.000000\n",
       "mean   159577.953857    942.204028\n",
       "std    162422.777656    637.338340\n",
       "min      2625.000000      0.000000\n",
       "25%     35996.000000    434.000000\n",
       "50%     98363.000000    816.000000\n",
       "75%    213501.000000   1326.000000\n",
       "max    750584.000000   4314.000000"
      ]
     },
     "execution_count": 14,
     "metadata": {},
     "output_type": "execute_result"
    }
   ],
   "source": [
    "# check the overall statistics of the penalties dataset\n",
    "df_penalties_field.describe()"
   ]
  },
  {
   "cell_type": "markdown",
   "metadata": {},
   "source": [
    "Now, the statistical description of the penalties dataset shows there are in total 10229 records of penalties with an average of around 942 penalties scored by the field players and the maximum scored is 4314."
   ]
  },
  {
   "cell_type": "code",
   "execution_count": 11,
   "metadata": {},
   "outputs": [
    {
     "data": {
      "text/html": [
       "<div>\n",
       "<style scoped>\n",
       "    .dataframe tbody tr th:only-of-type {\n",
       "        vertical-align: middle;\n",
       "    }\n",
       "\n",
       "    .dataframe tbody tr th {\n",
       "        vertical-align: top;\n",
       "    }\n",
       "\n",
       "    .dataframe thead th {\n",
       "        text-align: right;\n",
       "    }\n",
       "</style>\n",
       "<table border=\"1\" class=\"dataframe\">\n",
       "  <thead>\n",
       "    <tr style=\"text-align: right;\">\n",
       "      <th></th>\n",
       "      <th>player_api_id</th>\n",
       "      <th>penalties</th>\n",
       "    </tr>\n",
       "  </thead>\n",
       "  <tbody>\n",
       "    <tr>\n",
       "      <th>3704</th>\n",
       "      <td>41269</td>\n",
       "      <td>4314.0</td>\n",
       "    </tr>\n",
       "  </tbody>\n",
       "</table>\n",
       "</div>"
      ],
      "text/plain": [
       "      player_api_id  penalties\n",
       "3704          41269     4314.0"
      ]
     },
     "execution_count": 11,
     "metadata": {},
     "output_type": "execute_result"
    }
   ],
   "source": [
    "# fetch the player_api_id of the player who scored the max penalties (4314)\n",
    "df_penalties_field.loc[df_penalties_field['penalties'] == 4314]"
   ]
  },
  {
   "cell_type": "code",
   "execution_count": 16,
   "metadata": {},
   "outputs": [
    {
     "data": {
      "text/html": [
       "<div>\n",
       "<style scoped>\n",
       "    .dataframe tbody tr th:only-of-type {\n",
       "        vertical-align: middle;\n",
       "    }\n",
       "\n",
       "    .dataframe tbody tr th {\n",
       "        vertical-align: top;\n",
       "    }\n",
       "\n",
       "    .dataframe thead th {\n",
       "        text-align: right;\n",
       "    }\n",
       "</style>\n",
       "<table border=\"1\" class=\"dataframe\">\n",
       "  <thead>\n",
       "    <tr style=\"text-align: right;\">\n",
       "      <th></th>\n",
       "      <th>player_api_id</th>\n",
       "      <th>player_name</th>\n",
       "      <th>birthday</th>\n",
       "      <th>date</th>\n",
       "      <th>overall_rating</th>\n",
       "      <th>penalties</th>\n",
       "      <th>gk_diving</th>\n",
       "      <th>gk_handling</th>\n",
       "      <th>gk_kicking</th>\n",
       "      <th>gk_positioning</th>\n",
       "      <th>gk_reflexes</th>\n",
       "      <th>goalkeeper</th>\n",
       "    </tr>\n",
       "  </thead>\n",
       "  <tbody>\n",
       "    <tr>\n",
       "      <th>6657</th>\n",
       "      <td>41269</td>\n",
       "      <td>Alessio Cerci</td>\n",
       "      <td>1987-07-23 00:00:00</td>\n",
       "      <td>2016-04-28 00:00:00</td>\n",
       "      <td>77.0</td>\n",
       "      <td>76.0</td>\n",
       "      <td>9.0</td>\n",
       "      <td>14.0</td>\n",
       "      <td>7.0</td>\n",
       "      <td>12.0</td>\n",
       "      <td>9.0</td>\n",
       "      <td>No</td>\n",
       "    </tr>\n",
       "  </tbody>\n",
       "</table>\n",
       "</div>"
      ],
      "text/plain": [
       "      player_api_id    player_name             birthday                 date  \\\n",
       "6657          41269  Alessio Cerci  1987-07-23 00:00:00  2016-04-28 00:00:00   \n",
       "\n",
       "      overall_rating  penalties  gk_diving  gk_handling  gk_kicking  \\\n",
       "6657            77.0       76.0        9.0         14.0         7.0   \n",
       "\n",
       "      gk_positioning  gk_reflexes goalkeeper  \n",
       "6657            12.0          9.0         No  "
      ]
     },
     "execution_count": 16,
     "metadata": {},
     "output_type": "execute_result"
    }
   ],
   "source": [
    "# fetching the name of the field player with player_api_id 41269\n",
    "df_players.loc[df_players['player_api_id'] == 41269].head(1)"
   ]
  },
  {
   "cell_type": "markdown",
   "metadata": {},
   "source": [
    "<p><a id=\"eda\"></a></p>\n",
    "<h2 id=\"Exploratory-Data-Analysis\">Exploratory Data Analysis<a class=\"anchor-link\" href=\"#Exploratory-Data-Analysis\">¶</a></h2><h3 id=\"2.-Attributes-of-better-players-than-average.\">2. Attributes of better players than average.<a class=\"anchor-link\" href=\"#2.-Attributes-of-better-players-than-average.\">¶</a></h3>"
   ]
  },
  {
   "cell_type": "markdown",
   "metadata": {},
   "source": [
    "I will try to analyse the attributes of \"better players than average\" for Goalkeepers, by comparing the averages of the attributes specific to goalkeepers based on the Overall Rating. So for this analysis, I'll use the Goalkeeper specific dataset."
   ]
  },
  {
   "cell_type": "code",
   "execution_count": 17,
   "metadata": {},
   "outputs": [
    {
     "data": {
      "text/plain": [
       "(14698, 12)"
      ]
     },
     "execution_count": 17,
     "metadata": {},
     "output_type": "execute_result"
    }
   ],
   "source": [
    "# checking how many total goalkeepers are there in the dataset\n",
    "df_players_goalkeeper.shape"
   ]
  },
  {
   "cell_type": "code",
   "execution_count": 18,
   "metadata": {},
   "outputs": [
    {
     "name": "stdout",
     "output_type": "stream",
     "text": [
      "<class 'pandas.core.frame.DataFrame'>\n",
      "Int64Index: 14698 entries, 695 to 183538\n",
      "Data columns (total 12 columns):\n",
      "player_api_id     14698 non-null int64\n",
      "player_name       14698 non-null object\n",
      "birthday          14698 non-null object\n",
      "date              14698 non-null object\n",
      "overall_rating    14698 non-null float64\n",
      "penalties         14698 non-null float64\n",
      "gk_diving         14698 non-null float64\n",
      "gk_handling       14698 non-null float64\n",
      "gk_kicking        14698 non-null float64\n",
      "gk_positioning    14698 non-null float64\n",
      "gk_reflexes       14698 non-null float64\n",
      "goalkeeper        14698 non-null object\n",
      "dtypes: float64(7), int64(1), object(4)\n",
      "memory usage: 1.5+ MB\n"
     ]
    }
   ],
   "source": [
    "df_players_goalkeeper.info()"
   ]
  },
  {
   "cell_type": "code",
   "execution_count": 12,
   "metadata": {},
   "outputs": [],
   "source": [
    "# grouping the dataset based on each goalkeeper and finding the mean overall rating\n",
    "df_average_rating_GK = df_players_goalkeeper.groupby('player_api_id')['overall_rating'].mean()"
   ]
  },
  {
   "cell_type": "code",
   "execution_count": 13,
   "metadata": {},
   "outputs": [
    {
     "data": {
      "text/plain": [
       "66.88798411450055"
      ]
     },
     "execution_count": 13,
     "metadata": {},
     "output_type": "execute_result"
    }
   ],
   "source": [
    "# find the combined average rating from the grouped dataset\n",
    "average_overall_rating_GK = df_average_rating_GK.mean()\n",
    "average_overall_rating_GK"
   ]
  },
  {
   "cell_type": "code",
   "execution_count": 14,
   "metadata": {},
   "outputs": [],
   "source": [
    "# lets create a dataset containing the average of the attributes\n",
    "df_average_ratings_gk = df_players_goalkeeper.groupby('player_api_id').mean()"
   ]
  },
  {
   "cell_type": "code",
   "execution_count": 15,
   "metadata": {},
   "outputs": [
    {
     "data": {
      "text/html": [
       "<div>\n",
       "<style scoped>\n",
       "    .dataframe tbody tr th:only-of-type {\n",
       "        vertical-align: middle;\n",
       "    }\n",
       "\n",
       "    .dataframe tbody tr th {\n",
       "        vertical-align: top;\n",
       "    }\n",
       "\n",
       "    .dataframe thead th {\n",
       "        text-align: right;\n",
       "    }\n",
       "</style>\n",
       "<table border=\"1\" class=\"dataframe\">\n",
       "  <thead>\n",
       "    <tr style=\"text-align: right;\">\n",
       "      <th></th>\n",
       "      <th>overall_rating</th>\n",
       "      <th>penalties</th>\n",
       "      <th>gk_diving</th>\n",
       "      <th>gk_handling</th>\n",
       "      <th>gk_kicking</th>\n",
       "      <th>gk_positioning</th>\n",
       "      <th>gk_reflexes</th>\n",
       "    </tr>\n",
       "    <tr>\n",
       "      <th>player_api_id</th>\n",
       "      <th></th>\n",
       "      <th></th>\n",
       "      <th></th>\n",
       "      <th></th>\n",
       "      <th></th>\n",
       "      <th></th>\n",
       "      <th></th>\n",
       "    </tr>\n",
       "  </thead>\n",
       "  <tbody>\n",
       "    <tr>\n",
       "      <th>2796</th>\n",
       "      <td>64.6</td>\n",
       "      <td>21.533333</td>\n",
       "      <td>73.666667</td>\n",
       "      <td>59.000</td>\n",
       "      <td>59.866667</td>\n",
       "      <td>57.933333</td>\n",
       "      <td>69.533333</td>\n",
       "    </tr>\n",
       "    <tr>\n",
       "      <th>2984</th>\n",
       "      <td>68.5</td>\n",
       "      <td>55.500000</td>\n",
       "      <td>72.750000</td>\n",
       "      <td>63.375</td>\n",
       "      <td>62.500000</td>\n",
       "      <td>63.125000</td>\n",
       "      <td>73.625000</td>\n",
       "    </tr>\n",
       "  </tbody>\n",
       "</table>\n",
       "</div>"
      ],
      "text/plain": [
       "               overall_rating  penalties  gk_diving  gk_handling  gk_kicking  \\\n",
       "player_api_id                                                                  \n",
       "2796                     64.6  21.533333  73.666667       59.000   59.866667   \n",
       "2984                     68.5  55.500000  72.750000       63.375   62.500000   \n",
       "\n",
       "               gk_positioning  gk_reflexes  \n",
       "player_api_id                               \n",
       "2796                57.933333    69.533333  \n",
       "2984                63.125000    73.625000  "
      ]
     },
     "execution_count": 15,
     "metadata": {},
     "output_type": "execute_result"
    }
   ],
   "source": [
    "# checking the dataset\n",
    "df_average_ratings_gk.head(2)"
   ]
  },
  {
   "cell_type": "code",
   "execution_count": 15,
   "metadata": {},
   "outputs": [],
   "source": [
    "# creating different datasets for better than average and lesser than average goalkeepers\n",
    "\n",
    "# for better than average goalkeepers\n",
    "df_better_goalkeepers = df_average_ratings_gk.query('overall_rating >= {}'.format(average_overall_rating_GK))\n",
    "\n",
    "# for lesser than average goalkeepers\n",
    "df_lesser_goalkeepers = df_average_ratings_gk.query('overall_rating < {}'.format(average_overall_rating_GK))"
   ]
  },
  {
   "cell_type": "code",
   "execution_count": 24,
   "metadata": {},
   "outputs": [
    {
     "name": "stdout",
     "output_type": "stream",
     "text": [
      "<class 'pandas.core.frame.DataFrame'>\n",
      "Int64Index: 474 entries, 2984 to 698273\n",
      "Data columns (total 7 columns):\n",
      "overall_rating    474 non-null float64\n",
      "penalties         474 non-null float64\n",
      "gk_diving         474 non-null float64\n",
      "gk_handling       474 non-null float64\n",
      "gk_kicking        474 non-null float64\n",
      "gk_positioning    474 non-null float64\n",
      "gk_reflexes       474 non-null float64\n",
      "dtypes: float64(7)\n",
      "memory usage: 29.6 KB\n"
     ]
    }
   ],
   "source": [
    "# checking the columns and data informations\n",
    "df_better_goalkeepers.info()"
   ]
  },
  {
   "cell_type": "code",
   "execution_count": 16,
   "metadata": {},
   "outputs": [
    {
     "name": "stderr",
     "output_type": "stream",
     "text": [
      "C:\\Users\\cr174k\\AppData\\Local\\Continuum\\anaconda3\\lib\\site-packages\\pandas\\core\\frame.py:3694: SettingWithCopyWarning: \n",
      "A value is trying to be set on a copy of a slice from a DataFrame\n",
      "\n",
      "See the caveats in the documentation: http://pandas.pydata.org/pandas-docs/stable/indexing.html#indexing-view-versus-copy\n",
      "  errors=errors)\n"
     ]
    }
   ],
   "source": [
    "# droping the overall_rating and penalties columns as they are no longer required.\n",
    "df_better_goalkeepers.drop(['overall_rating','penalties'], inplace = True, axis = 1)\n",
    "df_lesser_goalkeepers.drop(['overall_rating','penalties'], inplace = True, axis = 1)"
   ]
  },
  {
   "cell_type": "code",
   "execution_count": 17,
   "metadata": {},
   "outputs": [
    {
     "name": "stdout",
     "output_type": "stream",
     "text": [
      "gk_diving         73.370567\n",
      "gk_handling       70.402880\n",
      "gk_kicking        67.797872\n",
      "gk_positioning    71.367456\n",
      "gk_reflexes       74.971756\n",
      "dtype: float64\n",
      "gk_diving         63.662368\n",
      "gk_handling       60.073154\n",
      "gk_kicking        59.134853\n",
      "gk_positioning    60.658438\n",
      "gk_reflexes       64.898287\n",
      "dtype: float64\n"
     ]
    }
   ],
   "source": [
    "# checking the mean values for the attributes for better goalkeepers\n",
    "print(df_better_goalkeepers.mean())\n",
    "\n",
    "# checking the mean values for the attributes for lesser goalkeepers\n",
    "print(df_lesser_goalkeepers.mean())"
   ]
  },
  {
   "cell_type": "code",
   "execution_count": 19,
   "metadata": {},
   "outputs": [
    {
     "data": {
      "image/png": "[encoded data removed]",
      "text/plain": [
       "<Figure size 576x432 with 1 Axes>"
      ]
     },
     "metadata": {},
     "output_type": "display_data"
    }
   ],
   "source": [
    "# Setting up the parameters for plotting the dataset comparisons and plotting the multi bar chart\n",
    "\n",
    "plt.figure(figsize = [8,6]);\n",
    "heights1 = df_better_goalkeepers.mean()\n",
    "heights2 = df_lesser_goalkeepers.mean()\n",
    "ind = np.arange(len(heights1))\n",
    "width = 0.35\n",
    "\n",
    "# plot bars\n",
    "better_gk = plt.bar(ind, heights1, width, color='b', alpha=.5, label='Better Average Goalkeepers')\n",
    "lesser_avg_gk = plt.bar(ind + width, heights2, width, color='r',alpha = 0.5, label='Lesser Average Goalkeepers')\n",
    "\n",
    "# title and labels\n",
    "plt.ylabel('Overall Ratings')\n",
    "plt.xlabel('Goalkeeper Attributes')\n",
    "plt.title('Goalkeeper attributes comparison for better and lesser than average ratings')\n",
    "plt.rcParams['figure.figsize'] = (10,8)\n",
    "\n",
    "locations = ind + width / 2  # xtick locations\n",
    "labels = ['gk_diving','gk_handling','gk_kicking','gk_positioning','gk_reflexes']  # xtick labels\n",
    "plt.xticks(locations, labels)\n",
    "\n",
    "# legend\n",
    "plt.legend(bbox_to_anchor = (1.05 , 1), loc = 2, borderaxespad = 0.);"
   ]
  },
  {
   "cell_type": "markdown",
   "metadata": {},
   "source": [
    "<p><a id=\"eda\"></a></p>\n",
    "<h2 id=\"Exploratory-Data-Analysis\">Exploratory Data Analysis<a class=\"anchor-link\" href=\"#Exploratory-Data-Analysis\">¶</a></h2><h3 id=\"3.-Age-and-Overall-Rating-relationship-analysis.\">3. Age and Overall Rating relationship analysis.<a class=\"anchor-link\" href=\"#3.-Age-and-Overall-Rating-relationship-analysis.\">¶</a></h3>"
   ]
  },
  {
   "cell_type": "markdown",
   "metadata": {},
   "source": [
    "<p>To perform this analysis, I will used the Field Players dataset. Will derived the age based on the birthday and the date columns. Find the overall ratings for various age groups and will derived the relationship.</p>"
   ]
  },
  {
   "cell_type": "code",
   "execution_count": 18,
   "metadata": {},
   "outputs": [
    {
     "data": {
      "text/html": [
       "<div>\n",
       "<style scoped>\n",
       "    .dataframe tbody tr th:only-of-type {\n",
       "        vertical-align: middle;\n",
       "    }\n",
       "\n",
       "    .dataframe tbody tr th {\n",
       "        vertical-align: top;\n",
       "    }\n",
       "\n",
       "    .dataframe thead th {\n",
       "        text-align: right;\n",
       "    }\n",
       "</style>\n",
       "<table border=\"1\" class=\"dataframe\">\n",
       "  <thead>\n",
       "    <tr style=\"text-align: right;\">\n",
       "      <th></th>\n",
       "      <th>birthday</th>\n",
       "      <th>date</th>\n",
       "      <th>overall_rating</th>\n",
       "    </tr>\n",
       "  </thead>\n",
       "  <tbody>\n",
       "    <tr>\n",
       "      <th>0</th>\n",
       "      <td>1992-02-29 00:00:00</td>\n",
       "      <td>2016-02-18 00:00:00</td>\n",
       "      <td>67.0</td>\n",
       "    </tr>\n",
       "    <tr>\n",
       "      <th>1</th>\n",
       "      <td>1992-02-29 00:00:00</td>\n",
       "      <td>2015-11-19 00:00:00</td>\n",
       "      <td>67.0</td>\n",
       "    </tr>\n",
       "  </tbody>\n",
       "</table>\n",
       "</div>"
      ],
      "text/plain": [
       "              birthday                 date  overall_rating\n",
       "0  1992-02-29 00:00:00  2016-02-18 00:00:00            67.0\n",
       "1  1992-02-29 00:00:00  2015-11-19 00:00:00            67.0"
      ]
     },
     "execution_count": 18,
     "metadata": {},
     "output_type": "execute_result"
    }
   ],
   "source": [
    "# create a dataset containing only the birthday, date and overall_ratings from the Field Players dataset.\n",
    "df_players_age = df_players_field[['birthday','date','overall_rating']]\n",
    "df_players_age.head(2)"
   ]
  },
  {
   "cell_type": "code",
   "execution_count": 21,
   "metadata": {},
   "outputs": [
    {
     "name": "stdout",
     "output_type": "stream",
     "text": [
      "<class 'pandas.core.frame.DataFrame'>\n",
      "Int64Index: 169280 entries, 0 to 183977\n",
      "Data columns (total 3 columns):\n",
      "birthday          169280 non-null object\n",
      "date              169280 non-null object\n",
      "overall_rating    169280 non-null float64\n",
      "dtypes: float64(1), object(2)\n",
      "memory usage: 5.2+ MB\n"
     ]
    }
   ],
   "source": [
    "# check the data types of the birthday and the date columns\n",
    "df_players_age.info()"
   ]
  },
  {
   "cell_type": "code",
   "execution_count": 19,
   "metadata": {},
   "outputs": [
    {
     "name": "stderr",
     "output_type": "stream",
     "text": [
      "C:\\Users\\cr174k\\AppData\\Local\\Continuum\\anaconda3\\lib\\site-packages\\ipykernel_launcher.py:2: SettingWithCopyWarning: \n",
      "A value is trying to be set on a copy of a slice from a DataFrame.\n",
      "Try using .loc[row_indexer,col_indexer] = value instead\n",
      "\n",
      "See the caveats in the documentation: http://pandas.pydata.org/pandas-docs/stable/indexing.html#indexing-view-versus-copy\n",
      "  \n",
      "C:\\Users\\cr174k\\AppData\\Local\\Continuum\\anaconda3\\lib\\site-packages\\ipykernel_launcher.py:3: SettingWithCopyWarning: \n",
      "A value is trying to be set on a copy of a slice from a DataFrame.\n",
      "Try using .loc[row_indexer,col_indexer] = value instead\n",
      "\n",
      "See the caveats in the documentation: http://pandas.pydata.org/pandas-docs/stable/indexing.html#indexing-view-versus-copy\n",
      "  This is separate from the ipykernel package so we can avoid doing imports until\n"
     ]
    }
   ],
   "source": [
    "# converting the birthday and date columns to date type\n",
    "df_players_age['birthday'] = pd.to_datetime(df_players_age['birthday'])\n",
    "df_players_age['date'] = pd.to_datetime(df_players_age['date'])"
   ]
  },
  {
   "cell_type": "code",
   "execution_count": 20,
   "metadata": {},
   "outputs": [
    {
     "name": "stderr",
     "output_type": "stream",
     "text": [
      "C:\\Users\\cr174k\\AppData\\Local\\Continuum\\anaconda3\\lib\\site-packages\\ipykernel_launcher.py:2: SettingWithCopyWarning: \n",
      "A value is trying to be set on a copy of a slice from a DataFrame.\n",
      "Try using .loc[row_indexer,col_indexer] = value instead\n",
      "\n",
      "See the caveats in the documentation: http://pandas.pydata.org/pandas-docs/stable/indexing.html#indexing-view-versus-copy\n",
      "  \n"
     ]
    }
   ],
   "source": [
    "# adding a column listing the age for each row\n",
    "df_players_age['age'] = df_players_age['date'].dt.year - df_players_age['birthday'].dt.year"
   ]
  },
  {
   "cell_type": "code",
   "execution_count": 24,
   "metadata": {},
   "outputs": [
    {
     "data": {
      "text/html": [
       "<div>\n",
       "<style scoped>\n",
       "    .dataframe tbody tr th:only-of-type {\n",
       "        vertical-align: middle;\n",
       "    }\n",
       "\n",
       "    .dataframe tbody tr th {\n",
       "        vertical-align: top;\n",
       "    }\n",
       "\n",
       "    .dataframe thead th {\n",
       "        text-align: right;\n",
       "    }\n",
       "</style>\n",
       "<table border=\"1\" class=\"dataframe\">\n",
       "  <thead>\n",
       "    <tr style=\"text-align: right;\">\n",
       "      <th></th>\n",
       "      <th>birthday</th>\n",
       "      <th>date</th>\n",
       "      <th>overall_rating</th>\n",
       "      <th>age</th>\n",
       "    </tr>\n",
       "  </thead>\n",
       "  <tbody>\n",
       "    <tr>\n",
       "      <th>0</th>\n",
       "      <td>1992-02-29</td>\n",
       "      <td>2016-02-18</td>\n",
       "      <td>67.0</td>\n",
       "      <td>24</td>\n",
       "    </tr>\n",
       "    <tr>\n",
       "      <th>1</th>\n",
       "      <td>1992-02-29</td>\n",
       "      <td>2015-11-19</td>\n",
       "      <td>67.0</td>\n",
       "      <td>23</td>\n",
       "    </tr>\n",
       "  </tbody>\n",
       "</table>\n",
       "</div>"
      ],
      "text/plain": [
       "    birthday       date  overall_rating  age\n",
       "0 1992-02-29 2016-02-18            67.0   24\n",
       "1 1992-02-29 2015-11-19            67.0   23"
      ]
     },
     "execution_count": 24,
     "metadata": {},
     "output_type": "execute_result"
    }
   ],
   "source": [
    "df_players_age.head(2)"
   ]
  },
  {
   "cell_type": "code",
   "execution_count": 21,
   "metadata": {},
   "outputs": [],
   "source": [
    "# finding the average ratings for each age group in the dataset\n",
    "df_age_ratings = df_players_age.groupby('age').mean()"
   ]
  },
  {
   "cell_type": "code",
   "execution_count": 26,
   "metadata": {},
   "outputs": [
    {
     "data": {
      "text/html": [
       "<div>\n",
       "<style scoped>\n",
       "    .dataframe tbody tr th:only-of-type {\n",
       "        vertical-align: middle;\n",
       "    }\n",
       "\n",
       "    .dataframe tbody tr th {\n",
       "        vertical-align: top;\n",
       "    }\n",
       "\n",
       "    .dataframe thead th {\n",
       "        text-align: right;\n",
       "    }\n",
       "</style>\n",
       "<table border=\"1\" class=\"dataframe\">\n",
       "  <thead>\n",
       "    <tr style=\"text-align: right;\">\n",
       "      <th></th>\n",
       "      <th>birthday</th>\n",
       "      <th>date</th>\n",
       "      <th>overall_rating</th>\n",
       "    </tr>\n",
       "    <tr>\n",
       "      <th>age</th>\n",
       "      <th></th>\n",
       "      <th></th>\n",
       "      <th></th>\n",
       "    </tr>\n",
       "  </thead>\n",
       "  <tbody>\n",
       "    <tr>\n",
       "      <th>8</th>\n",
       "      <td>1</td>\n",
       "      <td>1</td>\n",
       "      <td>1</td>\n",
       "    </tr>\n",
       "    <tr>\n",
       "      <th>9</th>\n",
       "      <td>24</td>\n",
       "      <td>24</td>\n",
       "      <td>24</td>\n",
       "    </tr>\n",
       "    <tr>\n",
       "      <th>10</th>\n",
       "      <td>99</td>\n",
       "      <td>99</td>\n",
       "      <td>99</td>\n",
       "    </tr>\n",
       "    <tr>\n",
       "      <th>11</th>\n",
       "      <td>227</td>\n",
       "      <td>227</td>\n",
       "      <td>227</td>\n",
       "    </tr>\n",
       "    <tr>\n",
       "      <th>12</th>\n",
       "      <td>318</td>\n",
       "      <td>318</td>\n",
       "      <td>318</td>\n",
       "    </tr>\n",
       "    <tr>\n",
       "      <th>13</th>\n",
       "      <td>442</td>\n",
       "      <td>442</td>\n",
       "      <td>442</td>\n",
       "    </tr>\n",
       "    <tr>\n",
       "      <th>14</th>\n",
       "      <td>496</td>\n",
       "      <td>496</td>\n",
       "      <td>496</td>\n",
       "    </tr>\n",
       "    <tr>\n",
       "      <th>15</th>\n",
       "      <td>610</td>\n",
       "      <td>610</td>\n",
       "      <td>610</td>\n",
       "    </tr>\n",
       "    <tr>\n",
       "      <th>16</th>\n",
       "      <td>687</td>\n",
       "      <td>687</td>\n",
       "      <td>687</td>\n",
       "    </tr>\n",
       "    <tr>\n",
       "      <th>17</th>\n",
       "      <td>1174</td>\n",
       "      <td>1174</td>\n",
       "      <td>1174</td>\n",
       "    </tr>\n",
       "    <tr>\n",
       "      <th>18</th>\n",
       "      <td>3185</td>\n",
       "      <td>3185</td>\n",
       "      <td>3185</td>\n",
       "    </tr>\n",
       "    <tr>\n",
       "      <th>19</th>\n",
       "      <td>6627</td>\n",
       "      <td>6627</td>\n",
       "      <td>6627</td>\n",
       "    </tr>\n",
       "    <tr>\n",
       "      <th>20</th>\n",
       "      <td>9387</td>\n",
       "      <td>9387</td>\n",
       "      <td>9387</td>\n",
       "    </tr>\n",
       "    <tr>\n",
       "      <th>21</th>\n",
       "      <td>11186</td>\n",
       "      <td>11186</td>\n",
       "      <td>11186</td>\n",
       "    </tr>\n",
       "    <tr>\n",
       "      <th>22</th>\n",
       "      <td>12133</td>\n",
       "      <td>12133</td>\n",
       "      <td>12133</td>\n",
       "    </tr>\n",
       "    <tr>\n",
       "      <th>23</th>\n",
       "      <td>12811</td>\n",
       "      <td>12811</td>\n",
       "      <td>12811</td>\n",
       "    </tr>\n",
       "    <tr>\n",
       "      <th>24</th>\n",
       "      <td>13318</td>\n",
       "      <td>13318</td>\n",
       "      <td>13318</td>\n",
       "    </tr>\n",
       "    <tr>\n",
       "      <th>25</th>\n",
       "      <td>13446</td>\n",
       "      <td>13446</td>\n",
       "      <td>13446</td>\n",
       "    </tr>\n",
       "    <tr>\n",
       "      <th>26</th>\n",
       "      <td>13435</td>\n",
       "      <td>13435</td>\n",
       "      <td>13435</td>\n",
       "    </tr>\n",
       "    <tr>\n",
       "      <th>27</th>\n",
       "      <td>13030</td>\n",
       "      <td>13030</td>\n",
       "      <td>13030</td>\n",
       "    </tr>\n",
       "    <tr>\n",
       "      <th>28</th>\n",
       "      <td>11648</td>\n",
       "      <td>11648</td>\n",
       "      <td>11648</td>\n",
       "    </tr>\n",
       "    <tr>\n",
       "      <th>29</th>\n",
       "      <td>10170</td>\n",
       "      <td>10170</td>\n",
       "      <td>10170</td>\n",
       "    </tr>\n",
       "    <tr>\n",
       "      <th>30</th>\n",
       "      <td>8615</td>\n",
       "      <td>8615</td>\n",
       "      <td>8615</td>\n",
       "    </tr>\n",
       "    <tr>\n",
       "      <th>31</th>\n",
       "      <td>7199</td>\n",
       "      <td>7199</td>\n",
       "      <td>7199</td>\n",
       "    </tr>\n",
       "    <tr>\n",
       "      <th>32</th>\n",
       "      <td>5852</td>\n",
       "      <td>5852</td>\n",
       "      <td>5852</td>\n",
       "    </tr>\n",
       "    <tr>\n",
       "      <th>33</th>\n",
       "      <td>4786</td>\n",
       "      <td>4786</td>\n",
       "      <td>4786</td>\n",
       "    </tr>\n",
       "    <tr>\n",
       "      <th>34</th>\n",
       "      <td>3562</td>\n",
       "      <td>3562</td>\n",
       "      <td>3562</td>\n",
       "    </tr>\n",
       "    <tr>\n",
       "      <th>35</th>\n",
       "      <td>2384</td>\n",
       "      <td>2384</td>\n",
       "      <td>2384</td>\n",
       "    </tr>\n",
       "    <tr>\n",
       "      <th>36</th>\n",
       "      <td>1271</td>\n",
       "      <td>1271</td>\n",
       "      <td>1271</td>\n",
       "    </tr>\n",
       "    <tr>\n",
       "      <th>37</th>\n",
       "      <td>643</td>\n",
       "      <td>643</td>\n",
       "      <td>643</td>\n",
       "    </tr>\n",
       "    <tr>\n",
       "      <th>38</th>\n",
       "      <td>309</td>\n",
       "      <td>309</td>\n",
       "      <td>309</td>\n",
       "    </tr>\n",
       "    <tr>\n",
       "      <th>39</th>\n",
       "      <td>115</td>\n",
       "      <td>115</td>\n",
       "      <td>115</td>\n",
       "    </tr>\n",
       "    <tr>\n",
       "      <th>40</th>\n",
       "      <td>68</td>\n",
       "      <td>68</td>\n",
       "      <td>68</td>\n",
       "    </tr>\n",
       "    <tr>\n",
       "      <th>41</th>\n",
       "      <td>21</td>\n",
       "      <td>21</td>\n",
       "      <td>21</td>\n",
       "    </tr>\n",
       "    <tr>\n",
       "      <th>42</th>\n",
       "      <td>1</td>\n",
       "      <td>1</td>\n",
       "      <td>1</td>\n",
       "    </tr>\n",
       "  </tbody>\n",
       "</table>\n",
       "</div>"
      ],
      "text/plain": [
       "     birthday   date  overall_rating\n",
       "age                                 \n",
       "8           1      1               1\n",
       "9          24     24              24\n",
       "10         99     99              99\n",
       "11        227    227             227\n",
       "12        318    318             318\n",
       "13        442    442             442\n",
       "14        496    496             496\n",
       "15        610    610             610\n",
       "16        687    687             687\n",
       "17       1174   1174            1174\n",
       "18       3185   3185            3185\n",
       "19       6627   6627            6627\n",
       "20       9387   9387            9387\n",
       "21      11186  11186           11186\n",
       "22      12133  12133           12133\n",
       "23      12811  12811           12811\n",
       "24      13318  13318           13318\n",
       "25      13446  13446           13446\n",
       "26      13435  13435           13435\n",
       "27      13030  13030           13030\n",
       "28      11648  11648           11648\n",
       "29      10170  10170           10170\n",
       "30       8615   8615            8615\n",
       "31       7199   7199            7199\n",
       "32       5852   5852            5852\n",
       "33       4786   4786            4786\n",
       "34       3562   3562            3562\n",
       "35       2384   2384            2384\n",
       "36       1271   1271            1271\n",
       "37        643    643             643\n",
       "38        309    309             309\n",
       "39        115    115             115\n",
       "40         68     68              68\n",
       "41         21     21              21\n",
       "42          1      1               1"
      ]
     },
     "execution_count": 26,
     "metadata": {},
     "output_type": "execute_result"
    }
   ],
   "source": [
    "# finding the number of players in each group\n",
    "df_players_age.groupby('age').count()"
   ]
  },
  {
   "cell_type": "code",
   "execution_count": 27,
   "metadata": {},
   "outputs": [
    {
     "data": {
      "image/png": "[encoded data removed]",
      "text/plain": [
       "<Figure size 720x576 with 1 Axes>"
      ]
     },
     "metadata": {},
     "output_type": "display_data"
    }
   ],
   "source": [
    "# setting up the parameters and plotting the scatter plot\n",
    "\n",
    "locations = df_age_ratings.index.values\n",
    "height = df_age_ratings['overall_rating']\n",
    "plt.style.use('ggplot')\n",
    "\n",
    "# plotting scatter plot\n",
    "plt.plot(locations, height,'-o')\n",
    "\n",
    "# set title and labels\n",
    "plt.title('Age Vs Overall Rating Relationship Chart')\n",
    "plt.xlabel('Age of the players')\n",
    "plt.ylabel('Overall Ratings')\n",
    "plt.rcParams['figure.figsize'] = (8,6)"
   ]
  },
  {
   "cell_type": "markdown",
   "metadata": {},
   "source": [
    "<p><a id=\"wrangling\"></a></p>\n",
    "<h2 id=\"Data-Cleaning-and-Wrangling---Teams\">Data Cleaning and Wrangling - Teams<a class=\"anchor-link\" href=\"#Data-Cleaning-and-Wrangling---Teams\">¶</a></h2>"
   ]
  },
  {
   "cell_type": "code",
   "execution_count": 2,
   "metadata": {},
   "outputs": [],
   "source": [
    "# Load the Team Match Records dataset\n",
    "df_team_records = pd.read_csv('team_match_records.csv')"
   ]
  },
  {
   "cell_type": "markdown",
   "metadata": {},
   "source": [
    "<h3 id=\"Perform-Data-Check-and-Inspections\">Perform Data Check and Inspections<a class=\"anchor-link\" href=\"#Perform-Data-Check-and-Inspections\">¶</a></h3>"
   ]
  },
  {
   "cell_type": "code",
   "execution_count": 31,
   "metadata": {},
   "outputs": [
    {
     "name": "stdout",
     "output_type": "stream",
     "text": [
      "<class 'pandas.core.frame.DataFrame'>\n",
      "RangeIndex: 25979 entries, 0 to 25978\n",
      "Data columns (total 8 columns):\n",
      "date                25979 non-null object\n",
      "match_api_id        25979 non-null int64\n",
      "home_team_api_id    25979 non-null int64\n",
      "away_team_api_id    25979 non-null int64\n",
      "home_team_goal      25979 non-null int64\n",
      "away_team_goal      25979 non-null int64\n",
      "home_team_score     0 non-null float64\n",
      "away_team_score     0 non-null float64\n",
      "dtypes: float64(2), int64(5), object(1)\n",
      "memory usage: 1.6+ MB\n"
     ]
    }
   ],
   "source": [
    "# Checking the overall data information and types of the data\n",
    "df_team_records.info()"
   ]
  },
  {
   "cell_type": "code",
   "execution_count": 32,
   "metadata": {},
   "outputs": [
    {
     "data": {
      "text/plain": [
       "(25979, 8)"
      ]
     },
     "execution_count": 32,
     "metadata": {},
     "output_type": "execute_result"
    }
   ],
   "source": [
    "# check the dimensions of the dataset\n",
    "df_team_records.shape"
   ]
  },
  {
   "cell_type": "code",
   "execution_count": 33,
   "metadata": {},
   "outputs": [
    {
     "data": {
      "text/plain": [
       "0"
      ]
     },
     "execution_count": 33,
     "metadata": {},
     "output_type": "execute_result"
    }
   ],
   "source": [
    "# check for duplication of data\n",
    "df_team_records.duplicated().sum()"
   ]
  },
  {
   "cell_type": "code",
   "execution_count": 34,
   "metadata": {},
   "outputs": [
    {
     "data": {
      "text/plain": [
       "date                    0\n",
       "match_api_id            0\n",
       "home_team_api_id        0\n",
       "away_team_api_id        0\n",
       "home_team_goal          0\n",
       "away_team_goal          0\n",
       "home_team_score     25979\n",
       "away_team_score     25979\n",
       "dtype: int64"
      ]
     },
     "execution_count": 34,
     "metadata": {},
     "output_type": "execute_result"
    }
   ],
   "source": [
    "df_team_records.isnull().sum()"
   ]
  },
  {
   "cell_type": "markdown",
   "metadata": {},
   "source": [
    "<h3 id=\"Quick-Notes-on-Data-Cleaning-and-Data-Wrangling.\">Quick Notes on Data Cleaning and Data Wrangling.<a class=\"anchor-link\" href=\"#Quick-Notes-on-Data-Cleaning-and-Data-Wrangling.\">¶</a></h3><ol>\n",
    "<li>For this dataset team match records, there are no duplicate records.</li>\n",
    "<li>In total there are 25979 rows with 6 columns.</li>\n",
    "<li>No null data.</li>\n",
    "<li>Data types for all columns are of type Int64 except date.</li>\n",
    "</ol>"
   ]
  },
  {
   "cell_type": "markdown",
   "metadata": {},
   "source": [
    "<p><a id=\"eda\"></a></p>\n",
    "<h2 id=\"Exploratory-Data-Analysis\">Exploratory Data Analysis<a class=\"anchor-link\" href=\"#Exploratory-Data-Analysis\">¶</a></h2><h3 id=\"1.-Which-team-improved-the-most-over-the-time-period?\">1. Which team improved the most over the time period?<a class=\"anchor-link\" href=\"#1.-Which-team-improved-the-most-over-the-time-period?\">¶</a></h3>"
   ]
  },
  {
   "cell_type": "markdown",
   "metadata": {},
   "source": [
    "<p>To answer this research question, I will take two years for comparison say 2008 and 2016 and try to find out which Team has the highest total net points compared to what they have in 2008 and in 2016. This net point is the aggregate score for a team when they win, draw or loss a game.</p>"
   ]
  },
  {
   "cell_type": "code",
   "execution_count": 3,
   "metadata": {},
   "outputs": [],
   "source": [
    "# first of all lets convert the date column datatype from String to Date type\n",
    "df_team_records['date'] = pd.to_datetime(df_team_records['date'])"
   ]
  },
  {
   "cell_type": "code",
   "execution_count": 4,
   "metadata": {},
   "outputs": [],
   "source": [
    "# create functions to generate team scores for both home and away teams.\n",
    "# assuming 3 points for win, 0 points for loss and 1 pt to each team when draw.\n",
    "\n",
    "def calculate_score_home(data):\n",
    "    if data['home_team_goal'] > data['away_team_goal']:\n",
    "        return 3\n",
    "    elif data['home_team_goal'] == data['away_team_goal']:\n",
    "        return 1\n",
    "    else:\n",
    "        return 0\n",
    "    \n",
    "def calculate_score_away(data):\n",
    "    if data['home_team_goal'] > data['away_team_goal']:\n",
    "        return 0\n",
    "    elif data['home_team_goal'] == data['away_team_goal']:\n",
    "        return 1\n",
    "    else:\n",
    "        return 3"
   ]
  },
  {
   "cell_type": "code",
   "execution_count": 5,
   "metadata": {},
   "outputs": [],
   "source": [
    "# add two new columns that contains the points scored by the home and away teams for each match\n",
    "df_team_records['home_team_score'] = df_team_records.apply(lambda data: calculate_score_home(data), axis = 1)\n",
    "df_team_records['away_team_score'] = df_team_records.apply(lambda data: calculate_score_away(data), axis = 1)"
   ]
  },
  {
   "cell_type": "code",
   "execution_count": 38,
   "metadata": {},
   "outputs": [
    {
     "data": {
      "text/html": [
       "<div>\n",
       "<style scoped>\n",
       "    .dataframe tbody tr th:only-of-type {\n",
       "        vertical-align: middle;\n",
       "    }\n",
       "\n",
       "    .dataframe tbody tr th {\n",
       "        vertical-align: top;\n",
       "    }\n",
       "\n",
       "    .dataframe thead th {\n",
       "        text-align: right;\n",
       "    }\n",
       "</style>\n",
       "<table border=\"1\" class=\"dataframe\">\n",
       "  <thead>\n",
       "    <tr style=\"text-align: right;\">\n",
       "      <th></th>\n",
       "      <th>date</th>\n",
       "      <th>match_api_id</th>\n",
       "      <th>home_team_api_id</th>\n",
       "      <th>away_team_api_id</th>\n",
       "      <th>home_team_goal</th>\n",
       "      <th>away_team_goal</th>\n",
       "      <th>home_team_score</th>\n",
       "      <th>away_team_score</th>\n",
       "    </tr>\n",
       "  </thead>\n",
       "  <tbody>\n",
       "    <tr>\n",
       "      <th>0</th>\n",
       "      <td>2008-08-17</td>\n",
       "      <td>492473</td>\n",
       "      <td>9987</td>\n",
       "      <td>9993</td>\n",
       "      <td>1</td>\n",
       "      <td>1</td>\n",
       "      <td>1</td>\n",
       "      <td>1</td>\n",
       "    </tr>\n",
       "    <tr>\n",
       "      <th>1</th>\n",
       "      <td>2008-08-16</td>\n",
       "      <td>492474</td>\n",
       "      <td>10000</td>\n",
       "      <td>9994</td>\n",
       "      <td>0</td>\n",
       "      <td>0</td>\n",
       "      <td>1</td>\n",
       "      <td>1</td>\n",
       "    </tr>\n",
       "  </tbody>\n",
       "</table>\n",
       "</div>"
      ],
      "text/plain": [
       "        date  match_api_id  home_team_api_id  away_team_api_id  \\\n",
       "0 2008-08-17        492473              9987              9993   \n",
       "1 2008-08-16        492474             10000              9994   \n",
       "\n",
       "   home_team_goal  away_team_goal  home_team_score  away_team_score  \n",
       "0               1               1                1                1  \n",
       "1               0               0                1                1  "
      ]
     },
     "execution_count": 38,
     "metadata": {},
     "output_type": "execute_result"
    }
   ],
   "source": [
    "# checking dataset\n",
    "df_team_records.head(2)"
   ]
  },
  {
   "cell_type": "code",
   "execution_count": 6,
   "metadata": {},
   "outputs": [],
   "source": [
    "# now lets create two datasets for the years 2008 and 2016\n",
    "# for 2008\n",
    "df_team_records_2008 = df_team_records.query('date.dt.year == 2008')\n",
    "# for 2016\n",
    "df_team_records_2016 = df_team_records.query('date.dt.year == 2016')"
   ]
  },
  {
   "cell_type": "code",
   "execution_count": 40,
   "metadata": {},
   "outputs": [
    {
     "data": {
      "text/plain": [
       "(1613, 8)"
      ]
     },
     "execution_count": 40,
     "metadata": {},
     "output_type": "execute_result"
    }
   ],
   "source": [
    "# checking how many records in each dataset\n",
    "df_team_records_2008.shape"
   ]
  },
  {
   "cell_type": "code",
   "execution_count": 41,
   "metadata": {},
   "outputs": [
    {
     "data": {
      "text/plain": [
       "(1630, 8)"
      ]
     },
     "execution_count": 41,
     "metadata": {},
     "output_type": "execute_result"
    }
   ],
   "source": [
    "df_team_records_2016.shape"
   ]
  },
  {
   "cell_type": "code",
   "execution_count": 7,
   "metadata": {},
   "outputs": [],
   "source": [
    "# lets create a mask dataset each for 2008 and 2016 by grouping w.r.t home_team_api_id and home_team_score\n",
    "\n",
    "df_team_records_2008_home_masked = df_team_records_2008.groupby(['home_team_api_id','home_team_score']).count()\n",
    "df_team_records_2016_home_masked = df_team_records_2016.groupby(['home_team_api_id','home_team_score']).count()"
   ]
  },
  {
   "cell_type": "code",
   "execution_count": 8,
   "metadata": {},
   "outputs": [],
   "source": [
    "# similaryly create a mask dataset each for 2008 and 2016 by grouping w.r.t away_team_api_id and away_team_score\n",
    "\n",
    "df_team_records_2008_away_masked = df_team_records_2008.groupby(['away_team_api_id','away_team_score']).count()\n",
    "df_team_records_2016_away_masked = df_team_records_2016.groupby(['away_team_api_id','away_team_score']).count()"
   ]
  },
  {
   "cell_type": "code",
   "execution_count": 29,
   "metadata": {},
   "outputs": [
    {
     "data": {
      "text/html": [
       "<div>\n",
       "<style scoped>\n",
       "    .dataframe tbody tr th:only-of-type {\n",
       "        vertical-align: middle;\n",
       "    }\n",
       "\n",
       "    .dataframe tbody tr th {\n",
       "        vertical-align: top;\n",
       "    }\n",
       "\n",
       "    .dataframe thead th {\n",
       "        text-align: right;\n",
       "    }\n",
       "</style>\n",
       "<table border=\"1\" class=\"dataframe\">\n",
       "  <thead>\n",
       "    <tr style=\"text-align: right;\">\n",
       "      <th></th>\n",
       "      <th></th>\n",
       "      <th>date</th>\n",
       "      <th>match_api_id</th>\n",
       "      <th>away_team_api_id</th>\n",
       "      <th>home_team_goal</th>\n",
       "      <th>away_team_goal</th>\n",
       "      <th>away_team_score</th>\n",
       "    </tr>\n",
       "    <tr>\n",
       "      <th>home_team_api_id</th>\n",
       "      <th>home_team_score</th>\n",
       "      <th></th>\n",
       "      <th></th>\n",
       "      <th></th>\n",
       "      <th></th>\n",
       "      <th></th>\n",
       "      <th></th>\n",
       "    </tr>\n",
       "  </thead>\n",
       "  <tbody>\n",
       "    <tr>\n",
       "      <th rowspan=\"3\" valign=\"top\">1601</th>\n",
       "      <th>0</th>\n",
       "      <td>2</td>\n",
       "      <td>2</td>\n",
       "      <td>2</td>\n",
       "      <td>2</td>\n",
       "      <td>2</td>\n",
       "      <td>2</td>\n",
       "    </tr>\n",
       "    <tr>\n",
       "      <th>1</th>\n",
       "      <td>2</td>\n",
       "      <td>2</td>\n",
       "      <td>2</td>\n",
       "      <td>2</td>\n",
       "      <td>2</td>\n",
       "      <td>2</td>\n",
       "    </tr>\n",
       "    <tr>\n",
       "      <th>3</th>\n",
       "      <td>5</td>\n",
       "      <td>5</td>\n",
       "      <td>5</td>\n",
       "      <td>5</td>\n",
       "      <td>5</td>\n",
       "      <td>5</td>\n",
       "    </tr>\n",
       "  </tbody>\n",
       "</table>\n",
       "</div>"
      ],
      "text/plain": [
       "                                  date  match_api_id  away_team_api_id  \\\n",
       "home_team_api_id home_team_score                                         \n",
       "1601             0                   2             2                 2   \n",
       "                 1                   2             2                 2   \n",
       "                 3                   5             5                 5   \n",
       "\n",
       "                                  home_team_goal  away_team_goal  \\\n",
       "home_team_api_id home_team_score                                   \n",
       "1601             0                             2               2   \n",
       "                 1                             2               2   \n",
       "                 3                             5               5   \n",
       "\n",
       "                                  away_team_score  \n",
       "home_team_api_id home_team_score                   \n",
       "1601             0                              2  \n",
       "                 1                              2  \n",
       "                 3                              5  "
      ]
     },
     "execution_count": 29,
     "metadata": {},
     "output_type": "execute_result"
    }
   ],
   "source": [
    "# check how the dataset looks\n",
    "df_team_records_2008_home_masked.head(3)"
   ]
  },
  {
   "cell_type": "code",
   "execution_count": 9,
   "metadata": {},
   "outputs": [],
   "source": [
    "# lets reset the index and add as columns the home_api_id and home_team_score for both 2008 and 2016 datasets\n",
    "\n",
    "df_team_records_2008_home_masked.reset_index(level=['home_team_api_id', 'home_team_score'], inplace = True)\n",
    "df_team_records_2016_home_masked.reset_index(level=['home_team_api_id', 'home_team_score'], inplace = True)"
   ]
  },
  {
   "cell_type": "code",
   "execution_count": 10,
   "metadata": {},
   "outputs": [],
   "source": [
    "# similary lets reset the index for the away datasets for both 2008 and 2016 datasets\n",
    "\n",
    "df_team_records_2008_away_masked.reset_index(level=['away_team_api_id', 'away_team_score'], inplace = True)\n",
    "df_team_records_2016_away_masked.reset_index(level=['away_team_api_id', 'away_team_score'], inplace = True)"
   ]
  },
  {
   "cell_type": "code",
   "execution_count": 32,
   "metadata": {},
   "outputs": [
    {
     "data": {
      "text/html": [
       "<div>\n",
       "<style scoped>\n",
       "    .dataframe tbody tr th:only-of-type {\n",
       "        vertical-align: middle;\n",
       "    }\n",
       "\n",
       "    .dataframe tbody tr th {\n",
       "        vertical-align: top;\n",
       "    }\n",
       "\n",
       "    .dataframe thead th {\n",
       "        text-align: right;\n",
       "    }\n",
       "</style>\n",
       "<table border=\"1\" class=\"dataframe\">\n",
       "  <thead>\n",
       "    <tr style=\"text-align: right;\">\n",
       "      <th></th>\n",
       "      <th>home_team_api_id</th>\n",
       "      <th>home_team_score</th>\n",
       "      <th>date</th>\n",
       "      <th>match_api_id</th>\n",
       "      <th>away_team_api_id</th>\n",
       "      <th>home_team_goal</th>\n",
       "      <th>away_team_goal</th>\n",
       "      <th>away_team_score</th>\n",
       "    </tr>\n",
       "  </thead>\n",
       "  <tbody>\n",
       "    <tr>\n",
       "      <th>0</th>\n",
       "      <td>1601</td>\n",
       "      <td>0</td>\n",
       "      <td>2</td>\n",
       "      <td>2</td>\n",
       "      <td>2</td>\n",
       "      <td>2</td>\n",
       "      <td>2</td>\n",
       "      <td>2</td>\n",
       "    </tr>\n",
       "    <tr>\n",
       "      <th>1</th>\n",
       "      <td>1601</td>\n",
       "      <td>1</td>\n",
       "      <td>2</td>\n",
       "      <td>2</td>\n",
       "      <td>2</td>\n",
       "      <td>2</td>\n",
       "      <td>2</td>\n",
       "      <td>2</td>\n",
       "    </tr>\n",
       "    <tr>\n",
       "      <th>2</th>\n",
       "      <td>1601</td>\n",
       "      <td>3</td>\n",
       "      <td>5</td>\n",
       "      <td>5</td>\n",
       "      <td>5</td>\n",
       "      <td>5</td>\n",
       "      <td>5</td>\n",
       "      <td>5</td>\n",
       "    </tr>\n",
       "    <tr>\n",
       "      <th>3</th>\n",
       "      <td>1957</td>\n",
       "      <td>0</td>\n",
       "      <td>2</td>\n",
       "      <td>2</td>\n",
       "      <td>2</td>\n",
       "      <td>2</td>\n",
       "      <td>2</td>\n",
       "      <td>2</td>\n",
       "    </tr>\n",
       "    <tr>\n",
       "      <th>4</th>\n",
       "      <td>1957</td>\n",
       "      <td>1</td>\n",
       "      <td>2</td>\n",
       "      <td>2</td>\n",
       "      <td>2</td>\n",
       "      <td>2</td>\n",
       "      <td>2</td>\n",
       "      <td>2</td>\n",
       "    </tr>\n",
       "    <tr>\n",
       "      <th>5</th>\n",
       "      <td>1957</td>\n",
       "      <td>3</td>\n",
       "      <td>4</td>\n",
       "      <td>4</td>\n",
       "      <td>4</td>\n",
       "      <td>4</td>\n",
       "      <td>4</td>\n",
       "      <td>4</td>\n",
       "    </tr>\n",
       "  </tbody>\n",
       "</table>\n",
       "</div>"
      ],
      "text/plain": [
       "   home_team_api_id  home_team_score  date  match_api_id  away_team_api_id  \\\n",
       "0              1601                0     2             2                 2   \n",
       "1              1601                1     2             2                 2   \n",
       "2              1601                3     5             5                 5   \n",
       "3              1957                0     2             2                 2   \n",
       "4              1957                1     2             2                 2   \n",
       "5              1957                3     4             4                 4   \n",
       "\n",
       "   home_team_goal  away_team_goal  away_team_score  \n",
       "0               2               2                2  \n",
       "1               2               2                2  \n",
       "2               5               5                5  \n",
       "3               2               2                2  \n",
       "4               2               2                2  \n",
       "5               4               4                4  "
      ]
     },
     "execution_count": 32,
     "metadata": {},
     "output_type": "execute_result"
    }
   ],
   "source": [
    "# check the dataset\n",
    "df_team_records_2008_home_masked.head(6)"
   ]
  },
  {
   "cell_type": "markdown",
   "metadata": {},
   "source": [
    "The above group masked dataset represents the number of scores each game gets in total. For example. for team 1601, they lost 2 games, 2 draws and 5 wins at home in 2008."
   ]
  },
  {
   "cell_type": "code",
   "execution_count": 11,
   "metadata": {},
   "outputs": [],
   "source": [
    "# lets pivot the datasets to group in terms of team_api_id and the number of respective scores they get for each games\n",
    "\n",
    "# pivoting for 2008 and 2016 home game datasets\n",
    "df_team_records_2008_home_masked_final = df_team_records_2008_home_masked.pivot(index='home_team_api_id', columns='home_team_score', values='match_api_id')\n",
    "df_team_records_2016_home_masked_final = df_team_records_2016_home_masked.pivot(index='home_team_api_id', columns='home_team_score', values='match_api_id')\n",
    "\n",
    "# pivoting for 2008 and 2016 away game datasets\n",
    "df_team_records_2008_away_masked_final = df_team_records_2008_away_masked.pivot(index='away_team_api_id', columns='away_team_score', values='match_api_id')\n",
    "df_team_records_2016_away_masked_final = df_team_records_2016_away_masked.pivot(index='away_team_api_id', columns='away_team_score', values='match_api_id')"
   ]
  },
  {
   "cell_type": "code",
   "execution_count": 34,
   "metadata": {},
   "outputs": [
    {
     "data": {
      "text/html": [
       "<div>\n",
       "<style scoped>\n",
       "    .dataframe tbody tr th:only-of-type {\n",
       "        vertical-align: middle;\n",
       "    }\n",
       "\n",
       "    .dataframe tbody tr th {\n",
       "        vertical-align: top;\n",
       "    }\n",
       "\n",
       "    .dataframe thead th {\n",
       "        text-align: right;\n",
       "    }\n",
       "</style>\n",
       "<table border=\"1\" class=\"dataframe\">\n",
       "  <thead>\n",
       "    <tr style=\"text-align: right;\">\n",
       "      <th>home_team_score</th>\n",
       "      <th>0</th>\n",
       "      <th>1</th>\n",
       "      <th>3</th>\n",
       "    </tr>\n",
       "    <tr>\n",
       "      <th>home_team_api_id</th>\n",
       "      <th></th>\n",
       "      <th></th>\n",
       "      <th></th>\n",
       "    </tr>\n",
       "  </thead>\n",
       "  <tbody>\n",
       "    <tr>\n",
       "      <th>1601</th>\n",
       "      <td>2.0</td>\n",
       "      <td>2.0</td>\n",
       "      <td>5.0</td>\n",
       "    </tr>\n",
       "    <tr>\n",
       "      <th>1957</th>\n",
       "      <td>2.0</td>\n",
       "      <td>2.0</td>\n",
       "      <td>4.0</td>\n",
       "    </tr>\n",
       "    <tr>\n",
       "      <th>2182</th>\n",
       "      <td>1.0</td>\n",
       "      <td>2.0</td>\n",
       "      <td>5.0</td>\n",
       "    </tr>\n",
       "  </tbody>\n",
       "</table>\n",
       "</div>"
      ],
      "text/plain": [
       "home_team_score     0    1    3\n",
       "home_team_api_id               \n",
       "1601              2.0  2.0  5.0\n",
       "1957              2.0  2.0  4.0\n",
       "2182              1.0  2.0  5.0"
      ]
     },
     "execution_count": 34,
     "metadata": {},
     "output_type": "execute_result"
    }
   ],
   "source": [
    "#check the data\n",
    "\n",
    "df_team_records_2008_home_masked_final.head(3)"
   ]
  },
  {
   "cell_type": "code",
   "execution_count": 35,
   "metadata": {},
   "outputs": [
    {
     "data": {
      "text/plain": [
       "home_team_score\n",
       "0    19\n",
       "1    17\n",
       "3     0\n",
       "dtype: int64"
      ]
     },
     "execution_count": 35,
     "metadata": {},
     "output_type": "execute_result"
    }
   ],
   "source": [
    "# check for any null data's in all the four datasets\n",
    "# for 2008 home games dataset\n",
    "df_team_records_2008_home_masked_final.isnull().sum()"
   ]
  },
  {
   "cell_type": "code",
   "execution_count": 36,
   "metadata": {},
   "outputs": [
    {
     "data": {
      "text/plain": [
       "home_team_score\n",
       "0    19\n",
       "1    16\n",
       "3     4\n",
       "dtype: int64"
      ]
     },
     "execution_count": 36,
     "metadata": {},
     "output_type": "execute_result"
    }
   ],
   "source": [
    "# for 2016 home games dataset\n",
    "df_team_records_2016_home_masked_final.isnull().sum()"
   ]
  },
  {
   "cell_type": "code",
   "execution_count": 37,
   "metadata": {},
   "outputs": [
    {
     "data": {
      "text/plain": [
       "away_team_score\n",
       "0     3\n",
       "1    16\n",
       "3    26\n",
       "dtype: int64"
      ]
     },
     "execution_count": 37,
     "metadata": {},
     "output_type": "execute_result"
    }
   ],
   "source": [
    "# for 2008 away games dataset\n",
    "df_team_records_2008_away_masked_final.isnull().sum()"
   ]
  },
  {
   "cell_type": "code",
   "execution_count": 38,
   "metadata": {},
   "outputs": [
    {
     "data": {
      "text/plain": [
       "away_team_score\n",
       "0     8\n",
       "1    17\n",
       "3    21\n",
       "dtype: int64"
      ]
     },
     "execution_count": 38,
     "metadata": {},
     "output_type": "execute_result"
    }
   ],
   "source": [
    "# for 2016 away games dataset\n",
    "df_team_records_2016_away_masked_final.isnull().sum()"
   ]
  },
  {
   "cell_type": "code",
   "execution_count": 12,
   "metadata": {},
   "outputs": [],
   "source": [
    "# since the data types are all Int64 types. I'll replace the missing values with 0.\n",
    "\n",
    "df_team_records_2008_home_masked_final.fillna(0, inplace = True)\n",
    "df_team_records_2016_home_masked_final.fillna(0, inplace = True)\n",
    "df_team_records_2008_away_masked_final.fillna(0, inplace = True)\n",
    "df_team_records_2016_away_masked_final.fillna(0, inplace = True)"
   ]
  },
  {
   "cell_type": "code",
   "execution_count": 13,
   "metadata": {},
   "outputs": [],
   "source": [
    "# add a column to all the four datasets that gives the total number of games played by each team\n",
    "\n",
    "df_team_records_2008_home_masked_final['total_games'] = df_team_records_2008_home_masked_final[0] + df_team_records_2008_home_masked_final[1] + df_team_records_2008_home_masked_final[3]\n",
    "df_team_records_2016_home_masked_final['total_games'] = df_team_records_2016_home_masked_final[0] + df_team_records_2016_home_masked_final[1] + df_team_records_2016_home_masked_final[3]\n",
    "df_team_records_2008_away_masked_final['total_away_games'] = df_team_records_2008_away_masked_final[0] + df_team_records_2008_away_masked_final[1] + df_team_records_2008_away_masked_final[3]\n",
    "df_team_records_2016_away_masked_final['total_away_games'] = df_team_records_2016_away_masked_final[0] + df_team_records_2016_away_masked_final[1] + df_team_records_2016_away_masked_final[3]\n"
   ]
  },
  {
   "cell_type": "code",
   "execution_count": 41,
   "metadata": {},
   "outputs": [
    {
     "data": {
      "text/html": [
       "<div>\n",
       "<style scoped>\n",
       "    .dataframe tbody tr th:only-of-type {\n",
       "        vertical-align: middle;\n",
       "    }\n",
       "\n",
       "    .dataframe tbody tr th {\n",
       "        vertical-align: top;\n",
       "    }\n",
       "\n",
       "    .dataframe thead th {\n",
       "        text-align: right;\n",
       "    }\n",
       "</style>\n",
       "<table border=\"1\" class=\"dataframe\">\n",
       "  <thead>\n",
       "    <tr style=\"text-align: right;\">\n",
       "      <th>home_team_score</th>\n",
       "      <th>0</th>\n",
       "      <th>1</th>\n",
       "      <th>3</th>\n",
       "      <th>total_games</th>\n",
       "    </tr>\n",
       "    <tr>\n",
       "      <th>home_team_api_id</th>\n",
       "      <th></th>\n",
       "      <th></th>\n",
       "      <th></th>\n",
       "      <th></th>\n",
       "    </tr>\n",
       "  </thead>\n",
       "  <tbody>\n",
       "    <tr>\n",
       "      <th>1601</th>\n",
       "      <td>2.0</td>\n",
       "      <td>2.0</td>\n",
       "      <td>5.0</td>\n",
       "      <td>9.0</td>\n",
       "    </tr>\n",
       "    <tr>\n",
       "      <th>1957</th>\n",
       "      <td>2.0</td>\n",
       "      <td>2.0</td>\n",
       "      <td>4.0</td>\n",
       "      <td>8.0</td>\n",
       "    </tr>\n",
       "  </tbody>\n",
       "</table>\n",
       "</div>"
      ],
      "text/plain": [
       "home_team_score     0    1    3  total_games\n",
       "home_team_api_id                            \n",
       "1601              2.0  2.0  5.0          9.0\n",
       "1957              2.0  2.0  4.0          8.0"
      ]
     },
     "execution_count": 41,
     "metadata": {},
     "output_type": "execute_result"
    }
   ],
   "source": [
    "# check the data\n",
    "df_team_records_2008_home_masked_final.head(2)"
   ]
  },
  {
   "cell_type": "code",
   "execution_count": 14,
   "metadata": {},
   "outputs": [],
   "source": [
    "# add a column to all the four datasets that gives the total net scores \n",
    "# given by 1 * number of games draw + 3 * number of games win\n",
    "\n",
    "df_team_records_2008_home_masked_final['net_score'] = (df_team_records_2008_home_masked_final[1] * 1) + (df_team_records_2008_home_masked_final[3] * 3)\n",
    "df_team_records_2016_home_masked_final['net_score'] = (df_team_records_2016_home_masked_final[1] * 1) + (df_team_records_2016_home_masked_final[3] * 3)\n",
    "df_team_records_2008_away_masked_final['net_score'] = (df_team_records_2008_away_masked_final[1] * 1) + (df_team_records_2008_away_masked_final[3] * 3)\n",
    "df_team_records_2016_away_masked_final['net_score'] = (df_team_records_2016_away_masked_final[1] * 1) + (df_team_records_2016_away_masked_final[3] * 3)\n"
   ]
  },
  {
   "cell_type": "code",
   "execution_count": 43,
   "metadata": {},
   "outputs": [
    {
     "data": {
      "text/html": [
       "<div>\n",
       "<style scoped>\n",
       "    .dataframe tbody tr th:only-of-type {\n",
       "        vertical-align: middle;\n",
       "    }\n",
       "\n",
       "    .dataframe tbody tr th {\n",
       "        vertical-align: top;\n",
       "    }\n",
       "\n",
       "    .dataframe thead th {\n",
       "        text-align: right;\n",
       "    }\n",
       "</style>\n",
       "<table border=\"1\" class=\"dataframe\">\n",
       "  <thead>\n",
       "    <tr style=\"text-align: right;\">\n",
       "      <th>home_team_score</th>\n",
       "      <th>0</th>\n",
       "      <th>1</th>\n",
       "      <th>3</th>\n",
       "      <th>total_games</th>\n",
       "      <th>net_score</th>\n",
       "    </tr>\n",
       "    <tr>\n",
       "      <th>home_team_api_id</th>\n",
       "      <th></th>\n",
       "      <th></th>\n",
       "      <th></th>\n",
       "      <th></th>\n",
       "      <th></th>\n",
       "    </tr>\n",
       "  </thead>\n",
       "  <tbody>\n",
       "    <tr>\n",
       "      <th>1601</th>\n",
       "      <td>2.0</td>\n",
       "      <td>2.0</td>\n",
       "      <td>5.0</td>\n",
       "      <td>9.0</td>\n",
       "      <td>17.0</td>\n",
       "    </tr>\n",
       "    <tr>\n",
       "      <th>1957</th>\n",
       "      <td>2.0</td>\n",
       "      <td>2.0</td>\n",
       "      <td>4.0</td>\n",
       "      <td>8.0</td>\n",
       "      <td>14.0</td>\n",
       "    </tr>\n",
       "  </tbody>\n",
       "</table>\n",
       "</div>"
      ],
      "text/plain": [
       "home_team_score     0    1    3  total_games  net_score\n",
       "home_team_api_id                                       \n",
       "1601              2.0  2.0  5.0          9.0       17.0\n",
       "1957              2.0  2.0  4.0          8.0       14.0"
      ]
     },
     "execution_count": 43,
     "metadata": {},
     "output_type": "execute_result"
    }
   ],
   "source": [
    "df_team_records_2008_home_masked_final.head(2)"
   ]
  },
  {
   "cell_type": "code",
   "execution_count": 15,
   "metadata": {},
   "outputs": [],
   "source": [
    "# function to rename the column names for the 2008 and 2016 home games datasets\n",
    "\n",
    "def ren_cols(col):\n",
    "    name = str(col) + \"_home\"\n",
    "    return name"
   ]
  },
  {
   "cell_type": "code",
   "execution_count": 16,
   "metadata": {},
   "outputs": [],
   "source": [
    "# rename the columns for 2008 and 2016 home games datasets\n",
    "df_team_records_2008_home_masked_final.rename(columns = lambda x:ren_cols(x), inplace = True)\n",
    "df_team_records_2016_home_masked_final.rename(columns = lambda x:ren_cols(x), inplace = True)"
   ]
  },
  {
   "cell_type": "code",
   "execution_count": 46,
   "metadata": {},
   "outputs": [
    {
     "data": {
      "text/html": [
       "<div>\n",
       "<style scoped>\n",
       "    .dataframe tbody tr th:only-of-type {\n",
       "        vertical-align: middle;\n",
       "    }\n",
       "\n",
       "    .dataframe tbody tr th {\n",
       "        vertical-align: top;\n",
       "    }\n",
       "\n",
       "    .dataframe thead th {\n",
       "        text-align: right;\n",
       "    }\n",
       "</style>\n",
       "<table border=\"1\" class=\"dataframe\">\n",
       "  <thead>\n",
       "    <tr style=\"text-align: right;\">\n",
       "      <th>home_team_score</th>\n",
       "      <th>0_home</th>\n",
       "      <th>1_home</th>\n",
       "      <th>3_home</th>\n",
       "      <th>total_games_home</th>\n",
       "      <th>net_score_home</th>\n",
       "    </tr>\n",
       "    <tr>\n",
       "      <th>home_team_api_id</th>\n",
       "      <th></th>\n",
       "      <th></th>\n",
       "      <th></th>\n",
       "      <th></th>\n",
       "      <th></th>\n",
       "    </tr>\n",
       "  </thead>\n",
       "  <tbody>\n",
       "    <tr>\n",
       "      <th>1601</th>\n",
       "      <td>2.0</td>\n",
       "      <td>2.0</td>\n",
       "      <td>5.0</td>\n",
       "      <td>9.0</td>\n",
       "      <td>17.0</td>\n",
       "    </tr>\n",
       "    <tr>\n",
       "      <th>1957</th>\n",
       "      <td>2.0</td>\n",
       "      <td>2.0</td>\n",
       "      <td>4.0</td>\n",
       "      <td>8.0</td>\n",
       "      <td>14.0</td>\n",
       "    </tr>\n",
       "  </tbody>\n",
       "</table>\n",
       "</div>"
      ],
      "text/plain": [
       "home_team_score   0_home  1_home  3_home  total_games_home  net_score_home\n",
       "home_team_api_id                                                          \n",
       "1601                 2.0     2.0     5.0               9.0            17.0\n",
       "1957                 2.0     2.0     4.0               8.0            14.0"
      ]
     },
     "execution_count": 46,
     "metadata": {},
     "output_type": "execute_result"
    }
   ],
   "source": [
    "#check data\n",
    "df_team_records_2008_home_masked_final.head(2)"
   ]
  },
  {
   "cell_type": "code",
   "execution_count": 17,
   "metadata": {},
   "outputs": [],
   "source": [
    "# convert the respective home_team_api_id or the away_team_api_id from index to columns so that merging can be performed based \n",
    "# team api values\n",
    "df_team_records_2008_home_masked_final.reset_index(level=['home_team_api_id'], inplace = True)\n",
    "df_team_records_2016_home_masked_final.reset_index(level=['home_team_api_id'], inplace = True)\n",
    "df_team_records_2008_away_masked_final.reset_index(level=['away_team_api_id'], inplace = True)\n",
    "df_team_records_2016_away_masked_final.reset_index(level=['away_team_api_id'], inplace = True)"
   ]
  },
  {
   "cell_type": "code",
   "execution_count": 18,
   "metadata": {},
   "outputs": [],
   "source": [
    "# combine the home and away games for 2008 and 2016 respectively\n",
    "\n",
    "df_2008_combined = pd.merge(df_team_records_2008_home_masked_final, df_team_records_2008_away_masked_final, left_on = 'home_team_api_id', right_on = 'away_team_api_id', how = 'inner' )\n",
    "df_2016_combined = pd.merge(df_team_records_2016_home_masked_final, df_team_records_2016_away_masked_final, left_on = 'home_team_api_id', right_on = 'away_team_api_id', how = 'inner' )\n"
   ]
  },
  {
   "cell_type": "code",
   "execution_count": 49,
   "metadata": {},
   "outputs": [
    {
     "data": {
      "text/html": [
       "<div>\n",
       "<style scoped>\n",
       "    .dataframe tbody tr th:only-of-type {\n",
       "        vertical-align: middle;\n",
       "    }\n",
       "\n",
       "    .dataframe tbody tr th {\n",
       "        vertical-align: top;\n",
       "    }\n",
       "\n",
       "    .dataframe thead th {\n",
       "        text-align: right;\n",
       "    }\n",
       "</style>\n",
       "<table border=\"1\" class=\"dataframe\">\n",
       "  <thead>\n",
       "    <tr style=\"text-align: right;\">\n",
       "      <th></th>\n",
       "      <th>home_team_api_id</th>\n",
       "      <th>0_home</th>\n",
       "      <th>1_home</th>\n",
       "      <th>3_home</th>\n",
       "      <th>total_games_home</th>\n",
       "      <th>net_score_home</th>\n",
       "      <th>away_team_api_id</th>\n",
       "      <th>0</th>\n",
       "      <th>1</th>\n",
       "      <th>3</th>\n",
       "      <th>total_away_games</th>\n",
       "      <th>net_score</th>\n",
       "    </tr>\n",
       "  </thead>\n",
       "  <tbody>\n",
       "    <tr>\n",
       "      <th>0</th>\n",
       "      <td>1601</td>\n",
       "      <td>2.0</td>\n",
       "      <td>2.0</td>\n",
       "      <td>5.0</td>\n",
       "      <td>9.0</td>\n",
       "      <td>17.0</td>\n",
       "      <td>1601</td>\n",
       "      <td>5.0</td>\n",
       "      <td>2.0</td>\n",
       "      <td>1.0</td>\n",
       "      <td>8.0</td>\n",
       "      <td>5.0</td>\n",
       "    </tr>\n",
       "    <tr>\n",
       "      <th>1</th>\n",
       "      <td>1957</td>\n",
       "      <td>2.0</td>\n",
       "      <td>2.0</td>\n",
       "      <td>4.0</td>\n",
       "      <td>8.0</td>\n",
       "      <td>14.0</td>\n",
       "      <td>1957</td>\n",
       "      <td>5.0</td>\n",
       "      <td>4.0</td>\n",
       "      <td>0.0</td>\n",
       "      <td>9.0</td>\n",
       "      <td>4.0</td>\n",
       "    </tr>\n",
       "  </tbody>\n",
       "</table>\n",
       "</div>"
      ],
      "text/plain": [
       "   home_team_api_id  0_home  1_home  3_home  total_games_home  net_score_home  \\\n",
       "0              1601     2.0     2.0     5.0               9.0            17.0   \n",
       "1              1957     2.0     2.0     4.0               8.0            14.0   \n",
       "\n",
       "   away_team_api_id    0    1    3  total_away_games  net_score  \n",
       "0              1601  5.0  2.0  1.0               8.0        5.0  \n",
       "1              1957  5.0  4.0  0.0               9.0        4.0  "
      ]
     },
     "execution_count": 49,
     "metadata": {},
     "output_type": "execute_result"
    }
   ],
   "source": [
    "#check the data\n",
    "df_2008_combined.head(2)"
   ]
  },
  {
   "cell_type": "code",
   "execution_count": 19,
   "metadata": {},
   "outputs": [],
   "source": [
    "# add a column that gives the total net score OR the aggregate of the home and away games\n",
    "df_2008_combined['total_score'] = df_2008_combined['net_score_home'] + df_2008_combined['net_score']\n",
    "df_2016_combined['total_score_2016'] = df_2016_combined['net_score_home'] + df_2016_combined['net_score']"
   ]
  },
  {
   "cell_type": "code",
   "execution_count": 20,
   "metadata": {},
   "outputs": [],
   "source": [
    "# drop columns not required and create a clean dataset for both 2008 and 2016\n",
    "\n",
    "df_2008_combined_final = df_2008_combined[['home_team_api_id','total_score']]\n",
    "df_2016_combined_final = df_2016_combined[['away_team_api_id','total_score_2016']]"
   ]
  },
  {
   "cell_type": "code",
   "execution_count": 52,
   "metadata": {},
   "outputs": [
    {
     "data": {
      "text/html": [
       "<div>\n",
       "<style scoped>\n",
       "    .dataframe tbody tr th:only-of-type {\n",
       "        vertical-align: middle;\n",
       "    }\n",
       "\n",
       "    .dataframe tbody tr th {\n",
       "        vertical-align: top;\n",
       "    }\n",
       "\n",
       "    .dataframe thead th {\n",
       "        text-align: right;\n",
       "    }\n",
       "</style>\n",
       "<table border=\"1\" class=\"dataframe\">\n",
       "  <thead>\n",
       "    <tr style=\"text-align: right;\">\n",
       "      <th></th>\n",
       "      <th>home_team_api_id</th>\n",
       "      <th>total_score</th>\n",
       "    </tr>\n",
       "  </thead>\n",
       "  <tbody>\n",
       "    <tr>\n",
       "      <th>0</th>\n",
       "      <td>1601</td>\n",
       "      <td>22.0</td>\n",
       "    </tr>\n",
       "    <tr>\n",
       "      <th>1</th>\n",
       "      <td>1957</td>\n",
       "      <td>18.0</td>\n",
       "    </tr>\n",
       "  </tbody>\n",
       "</table>\n",
       "</div>"
      ],
      "text/plain": [
       "   home_team_api_id  total_score\n",
       "0              1601         22.0\n",
       "1              1957         18.0"
      ]
     },
     "execution_count": 52,
     "metadata": {},
     "output_type": "execute_result"
    }
   ],
   "source": [
    "df_2008_combined_final.head(2)"
   ]
  },
  {
   "cell_type": "code",
   "execution_count": 53,
   "metadata": {},
   "outputs": [
    {
     "data": {
      "text/html": [
       "<div>\n",
       "<style scoped>\n",
       "    .dataframe tbody tr th:only-of-type {\n",
       "        vertical-align: middle;\n",
       "    }\n",
       "\n",
       "    .dataframe tbody tr th {\n",
       "        vertical-align: top;\n",
       "    }\n",
       "\n",
       "    .dataframe thead th {\n",
       "        text-align: right;\n",
       "    }\n",
       "</style>\n",
       "<table border=\"1\" class=\"dataframe\">\n",
       "  <thead>\n",
       "    <tr style=\"text-align: right;\">\n",
       "      <th></th>\n",
       "      <th>away_team_api_id</th>\n",
       "      <th>total_score_2016</th>\n",
       "    </tr>\n",
       "  </thead>\n",
       "  <tbody>\n",
       "    <tr>\n",
       "      <th>0</th>\n",
       "      <td>1601</td>\n",
       "      <td>8.0</td>\n",
       "    </tr>\n",
       "    <tr>\n",
       "      <th>1</th>\n",
       "      <td>1773</td>\n",
       "      <td>10.0</td>\n",
       "    </tr>\n",
       "  </tbody>\n",
       "</table>\n",
       "</div>"
      ],
      "text/plain": [
       "   away_team_api_id  total_score_2016\n",
       "0              1601               8.0\n",
       "1              1773              10.0"
      ]
     },
     "execution_count": 53,
     "metadata": {},
     "output_type": "execute_result"
    }
   ],
   "source": [
    "df_2016_combined_final.head(2)"
   ]
  },
  {
   "cell_type": "code",
   "execution_count": 21,
   "metadata": {},
   "outputs": [],
   "source": [
    "# merge the final combined datasets to find all the teams and their total scores that played in both the years 2008 and 2016\n",
    "\n",
    "df_combined_2008_2016 = pd.merge(df_2008_combined_final, df_2016_combined_final, left_on = 'home_team_api_id', right_on = 'away_team_api_id', how = 'inner' )"
   ]
  },
  {
   "cell_type": "code",
   "execution_count": 55,
   "metadata": {},
   "outputs": [
    {
     "data": {
      "text/html": [
       "<div>\n",
       "<style scoped>\n",
       "    .dataframe tbody tr th:only-of-type {\n",
       "        vertical-align: middle;\n",
       "    }\n",
       "\n",
       "    .dataframe tbody tr th {\n",
       "        vertical-align: top;\n",
       "    }\n",
       "\n",
       "    .dataframe thead th {\n",
       "        text-align: right;\n",
       "    }\n",
       "</style>\n",
       "<table border=\"1\" class=\"dataframe\">\n",
       "  <thead>\n",
       "    <tr style=\"text-align: right;\">\n",
       "      <th></th>\n",
       "      <th>home_team_api_id</th>\n",
       "      <th>total_score</th>\n",
       "      <th>away_team_api_id</th>\n",
       "      <th>total_score_2016</th>\n",
       "    </tr>\n",
       "  </thead>\n",
       "  <tbody>\n",
       "    <tr>\n",
       "      <th>0</th>\n",
       "      <td>1601</td>\n",
       "      <td>22.0</td>\n",
       "      <td>1601</td>\n",
       "      <td>8.0</td>\n",
       "    </tr>\n",
       "    <tr>\n",
       "      <th>1</th>\n",
       "      <td>1957</td>\n",
       "      <td>18.0</td>\n",
       "      <td>1957</td>\n",
       "      <td>10.0</td>\n",
       "    </tr>\n",
       "  </tbody>\n",
       "</table>\n",
       "</div>"
      ],
      "text/plain": [
       "   home_team_api_id  total_score  away_team_api_id  total_score_2016\n",
       "0              1601         22.0              1601               8.0\n",
       "1              1957         18.0              1957              10.0"
      ]
     },
     "execution_count": 55,
     "metadata": {},
     "output_type": "execute_result"
    }
   ],
   "source": [
    "df_combined_2008_2016.head(2)"
   ]
  },
  {
   "cell_type": "code",
   "execution_count": 22,
   "metadata": {},
   "outputs": [],
   "source": [
    "# add a column that calculates the difference in the total scores between 2008 and 2016\n",
    "df_combined_2008_2016['diff_scores'] = df_combined_2008_2016['total_score_2016'] - df_combined_2008_2016['total_score']"
   ]
  },
  {
   "cell_type": "code",
   "execution_count": 57,
   "metadata": {},
   "outputs": [
    {
     "data": {
      "text/plain": [
       "31.0"
      ]
     },
     "execution_count": 57,
     "metadata": {},
     "output_type": "execute_result"
    }
   ],
   "source": [
    "# find the maximum difference in the difference of scores\n",
    "\n",
    "max_diff = df_combined_2008_2016['diff_scores'].max()\n",
    "max_diff"
   ]
  },
  {
   "cell_type": "code",
   "execution_count": 58,
   "metadata": {},
   "outputs": [
    {
     "data": {
      "text/html": [
       "<div>\n",
       "<style scoped>\n",
       "    .dataframe tbody tr th:only-of-type {\n",
       "        vertical-align: middle;\n",
       "    }\n",
       "\n",
       "    .dataframe tbody tr th {\n",
       "        vertical-align: top;\n",
       "    }\n",
       "\n",
       "    .dataframe thead th {\n",
       "        text-align: right;\n",
       "    }\n",
       "</style>\n",
       "<table border=\"1\" class=\"dataframe\">\n",
       "  <thead>\n",
       "    <tr style=\"text-align: right;\">\n",
       "      <th></th>\n",
       "      <th>home_team_api_id</th>\n",
       "      <th>total_score</th>\n",
       "      <th>away_team_api_id</th>\n",
       "      <th>total_score_2016</th>\n",
       "      <th>diff_scores</th>\n",
       "    </tr>\n",
       "  </thead>\n",
       "  <tbody>\n",
       "    <tr>\n",
       "      <th>64</th>\n",
       "      <td>9772</td>\n",
       "      <td>26.0</td>\n",
       "      <td>9772</td>\n",
       "      <td>57.0</td>\n",
       "      <td>31.0</td>\n",
       "    </tr>\n",
       "  </tbody>\n",
       "</table>\n",
       "</div>"
      ],
      "text/plain": [
       "    home_team_api_id  total_score  away_team_api_id  total_score_2016  \\\n",
       "64              9772         26.0              9772              57.0   \n",
       "\n",
       "    diff_scores  \n",
       "64         31.0  "
      ]
     },
     "execution_count": 58,
     "metadata": {},
     "output_type": "execute_result"
    }
   ],
   "source": [
    "# find the team_api_id which has this maximum score difference between 2008 and 2016\n",
    "\n",
    "df_combined_2008_2016.query('diff_scores == {}'.format(max_diff))"
   ]
  },
  {
   "cell_type": "markdown",
   "metadata": {},
   "source": [
    "<p><a id=\"eda\"></a></p>\n",
    "<h2 id=\"Exploratory-Data-Analysis\">Exploratory Data Analysis<a class=\"anchor-link\" href=\"#Exploratory-Data-Analysis\">¶</a></h2><h3 id=\"2.-Home-and-Away-Games---winning-and-losing-ratio-analysis.\">2. Home and Away Games - winning and losing ratio analysis.<a class=\"anchor-link\" href=\"#2.-Home-and-Away-Games---winning-and-losing-ratio-analysis.\">¶</a></h3>"
   ]
  },
  {
   "cell_type": "markdown",
   "metadata": {},
   "source": [
    "<p>To analysis the home and away games winning and losig ratio, will try to find the number of winning games at home and away and the total number of games played by each team. Then the ratio for the win and the loss will be calculated and compared.</p>"
   ]
  },
  {
   "cell_type": "code",
   "execution_count": 23,
   "metadata": {},
   "outputs": [
    {
     "data": {
      "text/html": [
       "<div>\n",
       "<style scoped>\n",
       "    .dataframe tbody tr th:only-of-type {\n",
       "        vertical-align: middle;\n",
       "    }\n",
       "\n",
       "    .dataframe tbody tr th {\n",
       "        vertical-align: top;\n",
       "    }\n",
       "\n",
       "    .dataframe thead th {\n",
       "        text-align: right;\n",
       "    }\n",
       "</style>\n",
       "<table border=\"1\" class=\"dataframe\">\n",
       "  <thead>\n",
       "    <tr style=\"text-align: right;\">\n",
       "      <th></th>\n",
       "      <th>date</th>\n",
       "      <th>match_api_id</th>\n",
       "      <th>home_team_api_id</th>\n",
       "      <th>away_team_api_id</th>\n",
       "      <th>home_team_goal</th>\n",
       "      <th>away_team_goal</th>\n",
       "      <th>home_team_score</th>\n",
       "      <th>away_team_score</th>\n",
       "    </tr>\n",
       "  </thead>\n",
       "  <tbody>\n",
       "    <tr>\n",
       "      <th>0</th>\n",
       "      <td>2008-08-17</td>\n",
       "      <td>492473</td>\n",
       "      <td>9987</td>\n",
       "      <td>9993</td>\n",
       "      <td>1</td>\n",
       "      <td>1</td>\n",
       "      <td>1</td>\n",
       "      <td>1</td>\n",
       "    </tr>\n",
       "    <tr>\n",
       "      <th>1</th>\n",
       "      <td>2008-08-16</td>\n",
       "      <td>492474</td>\n",
       "      <td>10000</td>\n",
       "      <td>9994</td>\n",
       "      <td>0</td>\n",
       "      <td>0</td>\n",
       "      <td>1</td>\n",
       "      <td>1</td>\n",
       "    </tr>\n",
       "  </tbody>\n",
       "</table>\n",
       "</div>"
      ],
      "text/plain": [
       "        date  match_api_id  home_team_api_id  away_team_api_id  \\\n",
       "0 2008-08-17        492473              9987              9993   \n",
       "1 2008-08-16        492474             10000              9994   \n",
       "\n",
       "   home_team_goal  away_team_goal  home_team_score  away_team_score  \n",
       "0               1               1                1                1  \n",
       "1               0               0                1                1  "
      ]
     },
     "execution_count": 23,
     "metadata": {},
     "output_type": "execute_result"
    }
   ],
   "source": [
    "# we have the cleaned data set df_team_records\n",
    "df_team_records.head(2)"
   ]
  },
  {
   "cell_type": "code",
   "execution_count": 24,
   "metadata": {},
   "outputs": [],
   "source": [
    "# lets group the dataset based on the home team api and home games \n",
    "\n",
    "df_home_games = df_team_records.groupby(['home_team_api_id','home_team_score']).count()\n",
    "\n",
    "# similarly group for away games based on away team api and away games\n",
    "\n",
    "df_away_games = df_team_records.groupby(['away_team_api_id','away_team_score']).count()"
   ]
  },
  {
   "cell_type": "code",
   "execution_count": 25,
   "metadata": {},
   "outputs": [],
   "source": [
    "# lets reset the index for easy manipulation for both datasets\n",
    "\n",
    "df_home_games.reset_index(level=['home_team_api_id', 'home_team_score'], inplace = True)\n",
    "df_away_games.reset_index(level=['away_team_api_id', 'away_team_score'], inplace = True)"
   ]
  },
  {
   "cell_type": "code",
   "execution_count": 26,
   "metadata": {},
   "outputs": [],
   "source": [
    "# lets pivot the datasets to group it based on the resuls of the games\n",
    "\n",
    "df_homes_final = df_home_games.pivot(index='home_team_api_id', columns='home_team_score', values='match_api_id')\n",
    "df_away_final = df_away_games.pivot(index='away_team_api_id', columns='away_team_score', values='match_api_id')"
   ]
  },
  {
   "cell_type": "code",
   "execution_count": 27,
   "metadata": {},
   "outputs": [
    {
     "data": {
      "text/html": [
       "<div>\n",
       "<style scoped>\n",
       "    .dataframe tbody tr th:only-of-type {\n",
       "        vertical-align: middle;\n",
       "    }\n",
       "\n",
       "    .dataframe tbody tr th {\n",
       "        vertical-align: top;\n",
       "    }\n",
       "\n",
       "    .dataframe thead th {\n",
       "        text-align: right;\n",
       "    }\n",
       "</style>\n",
       "<table border=\"1\" class=\"dataframe\">\n",
       "  <thead>\n",
       "    <tr style=\"text-align: right;\">\n",
       "      <th>home_team_score</th>\n",
       "      <th>0</th>\n",
       "      <th>1</th>\n",
       "      <th>3</th>\n",
       "    </tr>\n",
       "    <tr>\n",
       "      <th>home_team_api_id</th>\n",
       "      <th></th>\n",
       "      <th></th>\n",
       "      <th></th>\n",
       "    </tr>\n",
       "  </thead>\n",
       "  <tbody>\n",
       "    <tr>\n",
       "      <th>1601</th>\n",
       "      <td>38.0</td>\n",
       "      <td>28.0</td>\n",
       "      <td>54.0</td>\n",
       "    </tr>\n",
       "    <tr>\n",
       "      <th>1773</th>\n",
       "      <td>16.0</td>\n",
       "      <td>13.0</td>\n",
       "      <td>16.0</td>\n",
       "    </tr>\n",
       "  </tbody>\n",
       "</table>\n",
       "</div>"
      ],
      "text/plain": [
       "home_team_score      0     1     3\n",
       "home_team_api_id                  \n",
       "1601              38.0  28.0  54.0\n",
       "1773              16.0  13.0  16.0"
      ]
     },
     "execution_count": 27,
     "metadata": {},
     "output_type": "execute_result"
    }
   ],
   "source": [
    "# check the dataset\n",
    "df_homes_final.head(2)"
   ]
  },
  {
   "cell_type": "code",
   "execution_count": 28,
   "metadata": {},
   "outputs": [
    {
     "data": {
      "text/plain": [
       "home_team_score\n",
       "0    0\n",
       "1    1\n",
       "3    1\n",
       "dtype: int64"
      ]
     },
     "execution_count": 28,
     "metadata": {},
     "output_type": "execute_result"
    }
   ],
   "source": [
    "# check for missing datas\n",
    "df_homes_final.isnull().sum()"
   ]
  },
  {
   "cell_type": "code",
   "execution_count": 29,
   "metadata": {},
   "outputs": [],
   "source": [
    "# fill missing data with 0\n",
    "df_homes_final.fillna(0,inplace = True)"
   ]
  },
  {
   "cell_type": "code",
   "execution_count": 30,
   "metadata": {},
   "outputs": [
    {
     "data": {
      "text/plain": [
       "away_team_score\n",
       "0    0\n",
       "1    0\n",
       "3    0\n",
       "dtype: int64"
      ]
     },
     "execution_count": 30,
     "metadata": {},
     "output_type": "execute_result"
    }
   ],
   "source": [
    "df_away_final.isnull().sum()"
   ]
  },
  {
   "cell_type": "code",
   "execution_count": 31,
   "metadata": {},
   "outputs": [],
   "source": [
    "# add a column that contains the total games played at home and away\n",
    "\n",
    "df_homes_final['total_home_games'] = df_homes_final[0] + df_homes_final[1] + df_homes_final[3]\n",
    "df_away_final['total_away_games'] = df_away_final[0] + df_away_final[1] + df_away_final[3]"
   ]
  },
  {
   "cell_type": "code",
   "execution_count": 32,
   "metadata": {},
   "outputs": [],
   "source": [
    "# calculate the winning, losing and draw ratio for both datasets\n",
    "\n",
    "# for home dataset\n",
    "df_homes_final['losing_ratio'] = df_homes_final[0] / df_homes_final['total_home_games']\n",
    "df_homes_final['draw_ratio'] = df_homes_final[1] / df_homes_final['total_home_games']\n",
    "df_homes_final['winning_ratio'] = df_homes_final[3] / df_homes_final['total_home_games']\n",
    "\n",
    "# for away dataset\n",
    "df_away_final['losing_ratio'] = df_away_final[0] / df_away_final['total_away_games']\n",
    "df_away_final['draw_ratio'] = df_away_final[1] / df_away_final['total_away_games']\n",
    "df_away_final['winning_ratio'] = df_away_final[3] / df_away_final['total_away_games']"
   ]
  },
  {
   "cell_type": "code",
   "execution_count": 33,
   "metadata": {},
   "outputs": [
    {
     "data": {
      "text/html": [
       "<div>\n",
       "<style scoped>\n",
       "    .dataframe tbody tr th:only-of-type {\n",
       "        vertical-align: middle;\n",
       "    }\n",
       "\n",
       "    .dataframe tbody tr th {\n",
       "        vertical-align: top;\n",
       "    }\n",
       "\n",
       "    .dataframe thead th {\n",
       "        text-align: right;\n",
       "    }\n",
       "</style>\n",
       "<table border=\"1\" class=\"dataframe\">\n",
       "  <thead>\n",
       "    <tr style=\"text-align: right;\">\n",
       "      <th>home_team_score</th>\n",
       "      <th>0</th>\n",
       "      <th>1</th>\n",
       "      <th>3</th>\n",
       "      <th>total_home_games</th>\n",
       "      <th>losing_ratio</th>\n",
       "      <th>draw_ratio</th>\n",
       "      <th>winning_ratio</th>\n",
       "    </tr>\n",
       "    <tr>\n",
       "      <th>home_team_api_id</th>\n",
       "      <th></th>\n",
       "      <th></th>\n",
       "      <th></th>\n",
       "      <th></th>\n",
       "      <th></th>\n",
       "      <th></th>\n",
       "      <th></th>\n",
       "    </tr>\n",
       "  </thead>\n",
       "  <tbody>\n",
       "    <tr>\n",
       "      <th>1601</th>\n",
       "      <td>38.0</td>\n",
       "      <td>28.0</td>\n",
       "      <td>54.0</td>\n",
       "      <td>120.0</td>\n",
       "      <td>0.316667</td>\n",
       "      <td>0.233333</td>\n",
       "      <td>0.450000</td>\n",
       "    </tr>\n",
       "    <tr>\n",
       "      <th>1773</th>\n",
       "      <td>16.0</td>\n",
       "      <td>13.0</td>\n",
       "      <td>16.0</td>\n",
       "      <td>45.0</td>\n",
       "      <td>0.355556</td>\n",
       "      <td>0.288889</td>\n",
       "      <td>0.355556</td>\n",
       "    </tr>\n",
       "    <tr>\n",
       "      <th>1957</th>\n",
       "      <td>30.0</td>\n",
       "      <td>27.0</td>\n",
       "      <td>63.0</td>\n",
       "      <td>120.0</td>\n",
       "      <td>0.250000</td>\n",
       "      <td>0.225000</td>\n",
       "      <td>0.525000</td>\n",
       "    </tr>\n",
       "  </tbody>\n",
       "</table>\n",
       "</div>"
      ],
      "text/plain": [
       "home_team_score      0     1     3  total_home_games  losing_ratio  \\\n",
       "home_team_api_id                                                     \n",
       "1601              38.0  28.0  54.0             120.0      0.316667   \n",
       "1773              16.0  13.0  16.0              45.0      0.355556   \n",
       "1957              30.0  27.0  63.0             120.0      0.250000   \n",
       "\n",
       "home_team_score   draw_ratio  winning_ratio  \n",
       "home_team_api_id                             \n",
       "1601                0.233333       0.450000  \n",
       "1773                0.288889       0.355556  \n",
       "1957                0.225000       0.525000  "
      ]
     },
     "execution_count": 33,
     "metadata": {},
     "output_type": "execute_result"
    }
   ],
   "source": [
    "#check the dataset\n",
    "df_homes_final.head(3)"
   ]
  },
  {
   "cell_type": "code",
   "execution_count": 34,
   "metadata": {},
   "outputs": [
    {
     "data": {
      "text/html": [
       "<div>\n",
       "<style scoped>\n",
       "    .dataframe tbody tr th:only-of-type {\n",
       "        vertical-align: middle;\n",
       "    }\n",
       "\n",
       "    .dataframe tbody tr th {\n",
       "        vertical-align: top;\n",
       "    }\n",
       "\n",
       "    .dataframe thead th {\n",
       "        text-align: right;\n",
       "    }\n",
       "</style>\n",
       "<table border=\"1\" class=\"dataframe\">\n",
       "  <thead>\n",
       "    <tr style=\"text-align: right;\">\n",
       "      <th>away_team_score</th>\n",
       "      <th>0</th>\n",
       "      <th>1</th>\n",
       "      <th>3</th>\n",
       "      <th>total_away_games</th>\n",
       "      <th>losing_ratio</th>\n",
       "      <th>draw_ratio</th>\n",
       "      <th>winning_ratio</th>\n",
       "    </tr>\n",
       "    <tr>\n",
       "      <th>away_team_api_id</th>\n",
       "      <th></th>\n",
       "      <th></th>\n",
       "      <th></th>\n",
       "      <th></th>\n",
       "      <th></th>\n",
       "      <th></th>\n",
       "      <th></th>\n",
       "    </tr>\n",
       "  </thead>\n",
       "  <tbody>\n",
       "    <tr>\n",
       "      <th>1601</th>\n",
       "      <td>53</td>\n",
       "      <td>29</td>\n",
       "      <td>38</td>\n",
       "      <td>120</td>\n",
       "      <td>0.441667</td>\n",
       "      <td>0.241667</td>\n",
       "      <td>0.316667</td>\n",
       "    </tr>\n",
       "    <tr>\n",
       "      <th>1773</th>\n",
       "      <td>24</td>\n",
       "      <td>15</td>\n",
       "      <td>6</td>\n",
       "      <td>45</td>\n",
       "      <td>0.533333</td>\n",
       "      <td>0.333333</td>\n",
       "      <td>0.133333</td>\n",
       "    </tr>\n",
       "    <tr>\n",
       "      <th>1957</th>\n",
       "      <td>59</td>\n",
       "      <td>37</td>\n",
       "      <td>24</td>\n",
       "      <td>120</td>\n",
       "      <td>0.491667</td>\n",
       "      <td>0.308333</td>\n",
       "      <td>0.200000</td>\n",
       "    </tr>\n",
       "  </tbody>\n",
       "</table>\n",
       "</div>"
      ],
      "text/plain": [
       "away_team_score    0   1   3  total_away_games  losing_ratio  draw_ratio  \\\n",
       "away_team_api_id                                                           \n",
       "1601              53  29  38               120      0.441667    0.241667   \n",
       "1773              24  15   6                45      0.533333    0.333333   \n",
       "1957              59  37  24               120      0.491667    0.308333   \n",
       "\n",
       "away_team_score   winning_ratio  \n",
       "away_team_api_id                 \n",
       "1601                   0.316667  \n",
       "1773                   0.133333  \n",
       "1957                   0.200000  "
      ]
     },
     "execution_count": 34,
     "metadata": {},
     "output_type": "execute_result"
    }
   ],
   "source": [
    "df_away_final.head(3)"
   ]
  },
  {
   "cell_type": "markdown",
   "metadata": {},
   "source": [
    "<p>Now I'll select my favourite 10 teams and check th ratio based on their winning and losing records.\n",
    "Teams are: ( with their respective team api id's)\n",
    "Chelsea - 8455\n",
    "Manchester City - 8456\n",
    "Real Madrid CF - 8633\n",
    "FC Barcelona - 8634\n",
    "Liverpol - 8650\n",
    "FC Bayern Munich -  9823\n",
    "Arsenal - 9825\n",
    "Paris Saint-German - 9847\n",
    "Juventus - 9885\n",
    "Valencia CF - 10267</p>"
   ]
  },
  {
   "cell_type": "code",
   "execution_count": 35,
   "metadata": {},
   "outputs": [],
   "source": [
    "#for only the selected teams\n",
    "\n",
    "my_teams_home_df = df_homes_final.query('home_team_api_id == 9885 or home_team_api_id == 8455 or home_team_api_id == 9847 or home_team_api_id == 9823 or home_team_api_id == 10267 or home_team_api_id == 8633 or home_team_api_id == 8634 or home_team_api_id == 9825 or home_team_api_id == 8650 or home_team_api_id == 8456')\n",
    "my_teams_away_df = df_away_final.query('away_team_api_id == 9885 or away_team_api_id == 8455 or away_team_api_id == 9847 or away_team_api_id == 9823 or away_team_api_id == 10267 or away_team_api_id == 8633 or away_team_api_id == 8634 or away_team_api_id == 9825 or away_team_api_id == 8650 or away_team_api_id == 8456')"
   ]
  },
  {
   "cell_type": "code",
   "execution_count": 36,
   "metadata": {},
   "outputs": [],
   "source": [
    "# setting up the parameter for plotting \n",
    "ind = np.arange(len(my_teams_home_df[0])) "
   ]
  },
  {
   "cell_type": "code",
   "execution_count": 38,
   "metadata": {},
   "outputs": [
    {
     "data": {
      "image/png": "[encoded data removed]",
      "text/plain": [
       "<Figure size 576x432 with 1 Axes>"
      ]
     },
     "metadata": {},
     "output_type": "display_data"
    }
   ],
   "source": [
    "# plotting the winning ratio bar chart\n",
    "\n",
    "plt.figure(figsize = [8,6]);\n",
    "home_winning_ratio = my_teams_home_df['winning_ratio']\n",
    "away_winning_ratio = my_teams_away_df['winning_ratio']\n",
    "\n",
    "\n",
    "home_winning = plt.bar(ind, home_winning_ratio, alpha=.5, label='home game winning ratio')\n",
    "away_winning = plt.bar(ind, away_winning_ratio, alpha=.5, label='away game winning ratio')\n",
    "\n",
    "# title and labels\n",
    "plt.title('Home and Away Games Winning Average Comparison')\n",
    "plt.xlabel('Teams')\n",
    "plt.ylabel('Average Winning Ratio')\n",
    "plt.rcParams[\"figure.figsize\"] = 8,6\n",
    "\n",
    "\n",
    "#locations = ind  # xtick locations\n",
    "labels = ['Chelsea', 'Manchester City','Real Madrid CF','FC Barcelona','Liverpol','FC Bayern Munich','Arsenal','Paris Saint-German','Juventus','Valencia CF']  # xtick labels\n",
    "plt.xticks(ind, labels, rotation='vertical')\n",
    "#plt.xticks(teams, rotation='vertical')\n",
    "\n",
    "# legend\n",
    "plt.legend(bbox_to_anchor = (1.05 , 1), loc = 2, borderaxespad = 0.);"
   ]
  },
  {
   "cell_type": "code",
   "execution_count": 39,
   "metadata": {},
   "outputs": [
    {
     "data": {
      "image/png": "[encoded data removed]",
      "text/plain": [
       "<Figure size 576x432 with 1 Axes>"
      ]
     },
     "metadata": {},
     "output_type": "display_data"
    }
   ],
   "source": [
    "# plotting the losing ratio bar chart\n",
    "plt.figure(figsize = [8,6]);\n",
    "home_losing_ratio = my_teams_home_df['losing_ratio']\n",
    "away_losing_ratio = my_teams_away_df['losing_ratio']\n",
    "\n",
    "\n",
    "home_losing = plt.bar(ind, home_losing_ratio, alpha=.4, label='home game losing ratio')\n",
    "away_losing = plt.bar(ind, away_losing_ratio, alpha=.4, label='away game losing ratio')\n",
    "\n",
    "# title and labels\n",
    "plt.title('Home and Away Games Losing Average Comparison')\n",
    "plt.xlabel('Teams')\n",
    "plt.ylabel('Average Losing Ratio')\n",
    "plt.rcParams[\"figure.figsize\"] = 8,6\n",
    "\n",
    "\n",
    "#locations = ind  # xtick locations\n",
    "labels = ['Chelsea', 'Manchester City','Real Madrid CF','FC Barcelona','Liverpol','FC Bayern Munich','Arsenal','Paris Saint-German','Juventus','Valencia CF']  # xtick labels\n",
    "plt.xticks(ind, labels, rotation='vertical')\n",
    "#plt.xticks(teams, rotation='vertical')\n",
    "\n",
    "# legend\n",
    "plt.legend(bbox_to_anchor = (1.05 , 1), loc = 2, borderaxespad = 0.);"
   ]
  },
  {
   "cell_type": "markdown",
   "metadata": {},
   "source": [
    "<h2 id=\"Conclusions\">Conclusions<a class=\"anchor-link\" href=\"#Conclusions\">¶</a></h2><h3 id=\"Summary-of-my-analysis:\">Summary of my analysis:<a class=\"anchor-link\" href=\"#Summary-of-my-analysis:\">¶</a></h3><h4 id=\"1.-Which-player-has-the-most-penalties?\">1. Which player has the most penalties?<a class=\"anchor-link\" href=\"#1.-Which-player-has-the-most-penalties?\">¶</a></h4><p>After analysing the total penalties scored by each player in all games played in all seasons, Alessio Cerci with player_api_id 41269 scores the maximum number of 4314 penalties.</p>\n",
    "<h4 id=\"2.-Attributes-of-better-players-than-average?\">2. Attributes of better players than average?<a class=\"anchor-link\" href=\"#2.-Attributes-of-better-players-than-average?\">¶</a></h4><p>After analysing the goalkeeper attributes for those whose overall rating is above and below the average rating of all goalkeepers ( 66.88 ), it seems that those goalkeepers whose average rating is more than the average has more attributes scores on all the goalkeeper attributes that includes diving, handling, kicking, positioning and indexes as also depicted in the comparison bar chart.</p>\n",
    "<h4 id=\"3.-Age-and-Overall-Rating-relationship-analysis.\">3. Age and Overall Rating relationship analysis.<a class=\"anchor-link\" href=\"#3.-Age-and-Overall-Rating-relationship-analysis.\">¶</a></h4><p>This analysis seems to be little contradicting as our bar chart says the overall ratings for those players whose age is greater than 40 have higher overall ratings. But, if we consider the number of players in each age group, we can see a hugh number of difference as compared to those whose age group ranges from 22 to 29 and those above 38. So, considering the number of players in each age group, I think it seems that the consistent  overall rating for age group ranging from 25+ to below 35 are higher consistently.</p>\n",
    "<h4 id=\"4.-Which-team-improved-the-most-over-the-time-period?\">4. Which team improved the most over the time period?<a class=\"anchor-link\" href=\"#4.-Which-team-improved-the-most-over-the-time-period?\">¶</a></h4><p>For this, after analysing between all teams who played at 2008 season and also played at 2016 season, and considering the net scores. I found that the maximum difference in the netscore in 2008 and that in 2016 is for the team with api_id 9772. It is SL Benfica. So, I will conclude SL Benfica is the team that improved the most comparing 2008 and 2016 seasons on the net aggregate score.</p>\n",
    "<h4 id=\"5.-Home-and-Away-Games---winning-and-losing-ratio-analysis.\">5. Home and Away Games - winning and losing ratio analysis.<a class=\"anchor-link\" href=\"#5.-Home-and-Away-Games---winning-and-losing-ratio-analysis.\">¶</a></h4><p>Finally, for this analysis, I think teams playing at home have a relatively higher chances of winning as compared to playing away games.  That also implies that teams playing at home have a relatively lower chances of losing as compared to playing away games.</p>"
   ]
  }
 ],
 "metadata": {
  "kernelspec": {
   "display_name": "Python 3",
   "language": "python",
   "name": "python3"
  },
  "language_info": {
   "codemirror_mode": {
    "name": "ipython",
    "version": 3
   },
   "file_extension": ".py",
   "mimetype": "text/x-python",
   "name": "python",
   "nbconvert_exporter": "python",
   "pygments_lexer": "ipython3",
   "version": "3.6.5"
  }
 },
 "nbformat": 4,
 "nbformat_minor": 2
}
