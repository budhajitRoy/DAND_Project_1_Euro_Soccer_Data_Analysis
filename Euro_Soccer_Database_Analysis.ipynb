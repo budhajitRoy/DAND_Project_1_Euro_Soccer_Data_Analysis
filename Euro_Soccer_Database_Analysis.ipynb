{
 "cells": [
  {
   "cell_type": "markdown",
   "metadata": {},
   "source": [
    "<h1 id=\"Project:-Euro-Soccer-Database-Analysis\">Project: Euro Soccer Database Analysis<a class=\"anchor-link\" href=\"#Project:-Euro-Soccer-Database-Analysis\">¶</a></h1><h2 id=\"Table-of-Contents\">Table of Contents<a class=\"anchor-link\" href=\"#Table-of-Contents\">¶</a></h2><ul>\n",
    "<li><a href=\"#intro\">Introduction</a></li>\n",
    "<li><a href=\"#wrangling\">Data Wrangling</a></li>\n",
    "<li><a href=\"#eda\">Exploratory Data Analysis</a></li>\n",
    "<li><a href=\"#conclusions\">Conclusions</a></li>\n",
    "</ul>\n"
   ]
  },
  {
   "cell_type": "markdown",
   "metadata": {},
   "source": [
    "<p><a id=\"intro\"></a></p>\n",
    "<h2 id=\"Introduction\">Introduction<a class=\"anchor-link\" href=\"#Introduction\">¶</a></h2><p>As a Soccer fan, I have decided to take up the Euro Soccer Database for analysis. I have used DB Browser for SQLite to extract the datasets from the Database. Following are the questions that I have come up for analysis. I have divided the questions or research analysis set into two groups, one related to Players and one to Teams:</p><p></p><p>On Players:</p>\n",
    "<ol>\n",
    "<li>Which player has the most penalties? </li>\n",
    "<li>Attributes of better players than average?</li>\n",
    "<li>Age and Overall Rating relationship analysis.</li>\n",
    "</ol>\n",
    "<p></p><p>On Teams:</p>\n",
    "<ol>\n",
    "<li>Which team improved the most over the time period? </li>\n",
    "<li>Home and Away Games - winning and losing ratio analysis.</li>\n",
    "</ol>\n"
   ]
  },
  {
   "cell_type": "markdown",
   "metadata": {},
   "source": [
    "<h3 id=\"SQL-Queries-Used:\">SQL Queries Used:<a class=\"anchor-link\" href=\"#SQL-Queries-Used:\">¶</a></h3><p>Following SQL Queries are used to combine the tables mentioned in the section above.</p>\n",
    "<ol>\n",
    "<li><p>For players dataset: I needed the player's name and birthday from Player table and the attributes from Player_Attributes table.</p>\n",
    "<div class=\"highlight\"><pre><span></span><span class=\"k\">SELECT</span> <span class=\"n\">p</span><span class=\"p\">.</span><span class=\"n\">player_name</span><span class=\"p\">,</span> <span class=\"n\">p</span><span class=\"p\">.</span><span class=\"n\">birthday</span><span class=\"p\">,</span> <span class=\"n\">pa</span><span class=\"p\">.</span><span class=\"o\">*</span> <span class=\"k\">FROM</span> <span class=\"n\">Player</span> <span class=\"n\">p</span> <span class=\"k\">JOIN</span> <span class=\"n\">Player_Attributes</span> <span class=\"n\">pa</span> <span class=\"k\">ON</span> <span class=\"n\">p</span><span class=\"p\">.</span><span class=\"n\">player_api_id</span> <span class=\"o\">=</span> <span class=\"n\">pa</span><span class=\"p\">.</span><span class=\"n\">player_api_id</span><span class=\"p\">;</span>\n",
    "</pre></div>\n",
    "</li>\n",
    "<li><p>To form team_match_records dataset: I needed the date, match_api_id, home_team_api_id, away_team_api_id, home_team_goal and away_team_goal from the Match Table.</p>\n",
    "<div class=\"highlight\"><pre><span></span><span class=\"k\">SELECT</span> <span class=\"kt\">date</span><span class=\"p\">,</span> <span class=\"n\">match_api_id</span><span class=\"p\">,</span> <span class=\"n\">home_team_api_id</span><span class=\"p\">,</span> <span class=\"n\">away_team_api_id</span><span class=\"p\">,</span> <span class=\"n\">home_team_goal</span><span class=\"p\">,</span> <span class=\"n\">away_team_goal</span> <span class=\"k\">FROM</span> <span class=\"k\">Match</span><span class=\"p\">;</span>\n",
    "</pre></div>\n",
    "</li>\n",
    "</ol>\n"
   ]
  },
  {
   "cell_type": "markdown",
   "metadata": {},
   "source": [
    "<h3 id=\"Importing-Packages\">Importing Packages<a class=\"anchor-link\" href=\"#Importing-Packages\">¶</a></h3>"
   ]
  },
  {
   "cell_type": "code",
   "execution_count": 2,
   "metadata": {},
   "outputs": [],
   "source": [
    "\n",
    "# importing the libraries needed for this project\n",
    "import pandas as pd\n",
    "import numpy as np\n",
    "import matplotlib.pyplot as plt\n",
    "import seaborn as sns\n",
    "from datetime import date\n",
    "%matplotlib inline"
   ]
  },
  {
   "cell_type": "markdown",
   "metadata": {},
   "source": [
    "<p><a id=\"wrangling\"></a></p>\n",
    "<h2 id=\"Data-Cleaning-and-Wrangling---Players\">Data Cleaning and Wrangling - Players<a class=\"anchor-link\" href=\"#Data-Cleaning-and-Wrangling---Players\">¶</a></h2>\n"
   ]
  },
  {
   "cell_type": "code",
   "execution_count": 4,
   "metadata": {},
   "outputs": [],
   "source": [
    "# Load the players dataset\n",
    "df_player_records = pd.read_csv('players.csv')\n"
   ]
  },
  {
   "cell_type": "markdown",
   "metadata": {},
   "source": [
    "\n",
    "<h3 id=\"Perform-Data-Check-and-Inspections\">Perform Data Check and Inspections<a class=\"anchor-link\" href=\"#Perform-Data-Check-and-Inspections\">¶</a></h3>\n"
   ]
  },
  {
   "cell_type": "code",
   "execution_count": 7,
   "metadata": {},
   "outputs": [
    {
     "name": "stdout",
     "output_type": "stream",
     "text": [
      "<class 'pandas.core.frame.DataFrame'>\n",
      "RangeIndex: 183978 entries, 0 to 183977\n",
      "Data columns (total 44 columns):\n",
      "player_name            183978 non-null object\n",
      "birthday               183978 non-null object\n",
      "id                     183978 non-null int64\n",
      "player_fifa_api_id     183978 non-null int64\n",
      "player_api_id          183978 non-null int64\n",
      "date                   183978 non-null object\n",
      "overall_rating         183142 non-null float64\n",
      "potential              183142 non-null float64\n",
      "preferred_foot         183142 non-null object\n",
      "attacking_work_rate    180748 non-null object\n",
      "defensive_work_rate    183142 non-null object\n",
      "crossing               183142 non-null float64\n",
      "finishing              183142 non-null float64\n",
      "heading_accuracy       183142 non-null float64\n",
      "short_passing          183142 non-null float64\n",
      "volleys                181265 non-null float64\n",
      "dribbling              183142 non-null float64\n",
      "curve                  181265 non-null float64\n",
      "free_kick_accuracy     183142 non-null float64\n",
      "long_passing           183142 non-null float64\n",
      "ball_control           183142 non-null float64\n",
      "acceleration           183142 non-null float64\n",
      "sprint_speed           183142 non-null float64\n",
      "agility                181265 non-null float64\n",
      "reactions              183142 non-null float64\n",
      "balance                181265 non-null float64\n",
      "shot_power             183142 non-null float64\n",
      "jumping                181265 non-null float64\n",
      "stamina                183142 non-null float64\n",
      "strength               183142 non-null float64\n",
      "long_shots             183142 non-null float64\n",
      "aggression             183142 non-null float64\n",
      "interceptions          183142 non-null float64\n",
      "positioning            183142 non-null float64\n",
      "vision                 181265 non-null float64\n",
      "penalties              183142 non-null float64\n",
      "marking                183142 non-null float64\n",
      "standing_tackle        183142 non-null float64\n",
      "sliding_tackle         181265 non-null float64\n",
      "gk_diving              183142 non-null float64\n",
      "gk_handling            183142 non-null float64\n",
      "gk_kicking             183142 non-null float64\n",
      "gk_positioning         183142 non-null float64\n",
      "gk_reflexes            183142 non-null float64\n",
      "dtypes: float64(35), int64(3), object(6)\n",
      "memory usage: 61.8+ MB\n"
     ]
    }
   ],
   "source": [
    "# Checking the overall data information and types of the data\n",
    "df_player_records.info()\n"
   ]
  },
  {
   "cell_type": "code",
   "execution_count": 8,
   "metadata": {},
   "outputs": [
    {
     "data": {
      "text/plain": [
       "(183978, 44)"
      ]
     },
     "execution_count": 8,
     "metadata": {},
     "output_type": "execute_result"
    }
   ],
   "source": [
    "# check the dimensions of the dataset\n",
    "df_player_records.shape"
   ]
  },
  {
   "cell_type": "code",
   "execution_count": 9,
   "metadata": {},
   "outputs": [
    {
     "data": {
      "text/plain": [
       "0"
      ]
     },
     "execution_count": 9,
     "metadata": {},
     "output_type": "execute_result"
    }
   ],
   "source": [
    "\n",
    "# check for duplication of data\n",
    "df_player_records.duplicated().sum()\n"
   ]
  },
  {
   "cell_type": "markdown",
   "metadata": {},
   "source": [
    "<p>For my analysis on this data, I'm interested in the columns player_api_id, player_name, birthday, date, overall_rating, penalties and the goalkeeper attributes. \n",
    "So, I'll create a new data frame with just these columns.</p>"
   ]
  },
  {
   "cell_type": "code",
   "execution_count": 10,
   "metadata": {},
   "outputs": [],
   "source": [
    "\n",
    "df_players = df_player_records[['player_api_id','player_name','birthday','date','overall_rating','penalties','gk_diving','gk_handling','gk_kicking','gk_positioning','gk_reflexes']]\n",
    "\n"
   ]
  },
  {
   "cell_type": "code",
   "execution_count": 11,
   "metadata": {},
   "outputs": [
    {
     "data": {
      "text/html": [
       "<div>\n",
       "<style scoped>\n",
       "    .dataframe tbody tr th:only-of-type {\n",
       "        vertical-align: middle;\n",
       "    }\n",
       "\n",
       "    .dataframe tbody tr th {\n",
       "        vertical-align: top;\n",
       "    }\n",
       "\n",
       "    .dataframe thead th {\n",
       "        text-align: right;\n",
       "    }\n",
       "</style>\n",
       "<table border=\"1\" class=\"dataframe\">\n",
       "  <thead>\n",
       "    <tr style=\"text-align: right;\">\n",
       "      <th></th>\n",
       "      <th>player_api_id</th>\n",
       "      <th>player_name</th>\n",
       "      <th>birthday</th>\n",
       "      <th>date</th>\n",
       "      <th>overall_rating</th>\n",
       "      <th>penalties</th>\n",
       "      <th>gk_diving</th>\n",
       "      <th>gk_handling</th>\n",
       "      <th>gk_kicking</th>\n",
       "      <th>gk_positioning</th>\n",
       "      <th>gk_reflexes</th>\n",
       "    </tr>\n",
       "  </thead>\n",
       "  <tbody>\n",
       "    <tr>\n",
       "      <th>0</th>\n",
       "      <td>505942</td>\n",
       "      <td>Aaron Appindangoye</td>\n",
       "      <td>1992-02-29 00:00:00</td>\n",
       "      <td>2016-02-18 00:00:00</td>\n",
       "      <td>67.0</td>\n",
       "      <td>48.0</td>\n",
       "      <td>6.0</td>\n",
       "      <td>11.0</td>\n",
       "      <td>10.0</td>\n",
       "      <td>8.0</td>\n",
       "      <td>8.0</td>\n",
       "    </tr>\n",
       "    <tr>\n",
       "      <th>1</th>\n",
       "      <td>505942</td>\n",
       "      <td>Aaron Appindangoye</td>\n",
       "      <td>1992-02-29 00:00:00</td>\n",
       "      <td>2015-11-19 00:00:00</td>\n",
       "      <td>67.0</td>\n",
       "      <td>48.0</td>\n",
       "      <td>6.0</td>\n",
       "      <td>11.0</td>\n",
       "      <td>10.0</td>\n",
       "      <td>8.0</td>\n",
       "      <td>8.0</td>\n",
       "    </tr>\n",
       "  </tbody>\n",
       "</table>\n",
       "</div>"
      ],
      "text/plain": [
       "   player_api_id         player_name             birthday  \\\n",
       "0         505942  Aaron Appindangoye  1992-02-29 00:00:00   \n",
       "1         505942  Aaron Appindangoye  1992-02-29 00:00:00   \n",
       "\n",
       "                  date  overall_rating  penalties  gk_diving  gk_handling  \\\n",
       "0  2016-02-18 00:00:00            67.0       48.0        6.0         11.0   \n",
       "1  2015-11-19 00:00:00            67.0       48.0        6.0         11.0   \n",
       "\n",
       "   gk_kicking  gk_positioning  gk_reflexes  \n",
       "0        10.0             8.0          8.0  \n",
       "1        10.0             8.0          8.0  "
      ]
     },
     "execution_count": 11,
     "metadata": {},
     "output_type": "execute_result"
    }
   ],
   "source": [
    "# check if the created dataframe is correct\n",
    "df_players.head(2)\n"
   ]
  },
  {
   "cell_type": "code",
   "execution_count": 12,
   "metadata": {},
   "outputs": [
    {
     "data": {
      "text/plain": [
       "player_api_id       0\n",
       "player_name         0\n",
       "birthday            0\n",
       "date                0\n",
       "overall_rating    836\n",
       "penalties         836\n",
       "gk_diving         836\n",
       "gk_handling       836\n",
       "gk_kicking        836\n",
       "gk_positioning    836\n",
       "gk_reflexes       836\n",
       "dtype: int64"
      ]
     },
     "execution_count": 12,
     "metadata": {},
     "output_type": "execute_result"
    }
   ],
   "source": [
    "# check for null values\n",
    "df_players.isnull().sum()"
   ]
  },
  {
   "cell_type": "markdown",
   "metadata": {},
   "source": [
    "<p>Since, the datatypes for the missig values are all float types, I'll fill the null values with 0 as replacing with 0 will not impact my calculations.</p>"
   ]
  },
  {
   "cell_type": "code",
   "execution_count": 13,
   "metadata": {},
   "outputs": [
    {
     "name": "stderr",
     "output_type": "stream",
     "text": [
      "C:\\Users\\cr174k\\AppData\\Local\\Continuum\\anaconda3\\lib\\site-packages\\pandas\\core\\frame.py:3787: SettingWithCopyWarning: \n",
      "A value is trying to be set on a copy of a slice from a DataFrame\n",
      "\n",
      "See the caveats in the documentation: http://pandas.pydata.org/pandas-docs/stable/indexing.html#indexing-view-versus-copy\n",
      "  downcast=downcast, **kwargs)\n"
     ]
    }
   ],
   "source": [
    "# fill null values with 0\n",
    "df_players.fillna(0, inplace = True)"
   ]
  },
  {
   "cell_type": "markdown",
   "metadata": {},
   "source": [
    "<h3 id=\"Quick-Notes-on-Data-Cleaning-and-Data-Wrangling.\">Quick Notes on Data Cleaning and Data Wrangling.<a class=\"anchor-link\" href=\"#Quick-Notes-on-Data-Cleaning-and-Data-Wrangling.\">¶</a></h3><ol>\n",
    "<li>For this dataset players, there are no duplicate records.</li>\n",
    "<li>In total there are 183978 rows with 44 columns.</li>\n",
    "<li>Removed those columns which will not be used for my analysis.</li>\n",
    "<li>Filled the missing values with 0 as the data types of the missing values which I'm interested are of float data types.</li>\n",
    "</ol>"
   ]
  },
  {
   "cell_type": "markdown",
   "metadata": {},
   "source": [
    "<p><a id=\"eda\"></a></p>\n",
    "<h2 id=\"Exploratory-Data-Analysis\">Exploratory Data Analysis<a class=\"anchor-link\" href=\"#Exploratory-Data-Analysis\">¶</a></h2><h3 id=\"1.-Which-player-had-the-most-penalties?\">1. Which player had the most penalties?<a class=\"anchor-link\" href=\"#1.-Which-player-had-the-most-penalties?\">¶</a></h3>"
   ]
  }
 ],
 "metadata": {
  "kernelspec": {
   "display_name": "Python 3",
   "language": "python",
   "name": "python3"
  },
  "language_info": {
   "codemirror_mode": {
    "name": "ipython",
    "version": 3
   },
   "file_extension": ".py",
   "mimetype": "text/x-python",
   "name": "python",
   "nbconvert_exporter": "python",
   "pygments_lexer": "ipython3",
   "version": "3.6.5"
  }
 },
 "nbformat": 4,
 "nbformat_minor": 2
}
